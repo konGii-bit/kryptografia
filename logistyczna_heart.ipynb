{
 "cells": [
  {
   "cell_type": "code",
   "id": "initial_id",
   "metadata": {
    "collapsed": true,
    "ExecuteTime": {
     "end_time": "2025-07-05T23:13:19.758008Z",
     "start_time": "2025-07-05T23:13:19.754173Z"
    }
   },
   "source": [
    "import torch\n",
    "import tenseal as ts\n",
    "import pandas as pd\n",
    "import random\n",
    "from time import time\n",
    "import numpy as np\n",
    "import matplotlib.pyplot as plt\n",
    "\n",
    "from notebooks.data import load_local_blood_transfusion"
   ],
   "outputs": [],
   "execution_count": 60
  },
  {
   "metadata": {
    "ExecuteTime": {
     "end_time": "2025-07-05T23:13:19.826866Z",
     "start_time": "2025-07-05T23:13:19.823666Z"
    }
   },
   "cell_type": "code",
   "source": [
    "def split_train_test(X, y, test_ratio=0.3):\n",
    "    idxs = [i for i in range(len(X))]\n",
    "    random.shuffle(idxs)\n",
    "    delim = int(len(X) * test_ratio)\n",
    "    test_idxs, train_idxs = idxs[:delim], idxs[delim:]\n",
    "    return X[train_idxs], y[train_idxs], X[test_idxs], y[test_idxs]"
   ],
   "id": "d141266cf6459806",
   "outputs": [],
   "execution_count": 61
  },
  {
   "metadata": {},
   "cell_type": "markdown",
   "source": [
    "## Zbiór danych\n",
    "Zbiór danych pochodził z Kaggle https://www.kaggle.com/datasets/johnsmith88/heart-disease-dataset Ma 14 cech, zmienną objaśnianą jest target."
   ],
   "id": "ac9e282c2ed5f116"
  },
  {
   "metadata": {
    "ExecuteTime": {
     "end_time": "2025-07-05T23:13:19.966825Z",
     "start_time": "2025-07-05T23:13:19.961360Z"
    }
   },
   "cell_type": "code",
   "source": [
    "from notebooks.data import load_local_heart\n",
    "from sklearn.preprocessing import LabelEncoder\n",
    "def heart():\n",
    "    X,y = load_local_heart()\n",
    "    X = torch.tensor(X).float()\n",
    "    X = (X - X.mean()) / X.std()\n",
    "    y=torch.tensor(y).float().unsqueeze(1)\n",
    "    return split_train_test(X, y)\n",
    "\n",
    "x_train, y_train, x_test, y_test = heart()\n",
    "\n",
    "print(f\"X_train shape: {x_train.shape}\")\n",
    "print(f\"y_train shape: {y_train.shape}\")\n",
    "print(f\"X_test shape: {x_test.shape}\")\n",
    "print(f\"y_test shape: {y_test.shape}\")"
   ],
   "id": "2e9b01c74f8578f4",
   "outputs": [
    {
     "name": "stdout",
     "output_type": "stream",
     "text": [
      "X_train shape: torch.Size([189, 12])\n",
      "y_train shape: torch.Size([189, 1])\n",
      "X_test shape: torch.Size([81, 12])\n",
      "y_test shape: torch.Size([81, 1])\n"
     ]
    }
   ],
   "execution_count": 62
  },
  {
   "metadata": {},
   "cell_type": "markdown",
   "source": [
    "## Regresja logistyczna bez szyfrowania\n",
    "\n",
    "Regresja logistyczna to algorytm klasyfikacji binarnej. Parametrami modelu jest wektor wag $w$ oraz bias $b$. Podczas wnioskowania wyznaczana jest wartość prawdopodobieństwa przynależności do jednej z klas $$p(x)=\\frac{1}{1+exp(-w^Tx+b)}$$ dla danych wejściowych x. Jeżeli wartość ta jest większa niż 0.5 przydzielana jest etykieta danej klasy, jeśli mniejsza, przydzielana jest etykieta klasy przeciwnej.\n",
    "\n",
    "Problem regresji logistycznej nie ma rozwiązania analitycznego, stosuje się metody gradientowe, aby wyznaczyć wartości wag. W procesie optymalizacji obliczane są gradienty funkcji straty względem wag i elementu bias, a następnie wartości gradientów po przemnożeniu przez niewielką stałą (learning rate) są odejmowane od wag.\n",
    "$$\\mathcal{L}(\\theta) = -\\frac{1}{n} \\sum_{i=1}^{n} \\left[ y^{(i)} \\log(\\sigma(\\theta^T x^{(i)})) + (1 - y^{(i)}) \\log(1 - \\sigma(\\theta^T x^{(i)})) \\right]$$"
   ],
   "id": "bf308634b3b14186"
  },
  {
   "metadata": {
    "ExecuteTime": {
     "end_time": "2025-07-05T23:13:20.041597Z",
     "start_time": "2025-07-05T23:13:20.037031Z"
    }
   },
   "cell_type": "code",
   "source": [
    "class LogisticRegressionModel(torch.nn.Module):\n",
    "\n",
    "    def __init__(self, n_features):\n",
    "        super(LogisticRegressionModel, self).__init__()\n",
    "        self.lr = torch.nn.Linear(n_features, 1)\n",
    "\n",
    "    def forward(self, x):\n",
    "        out = torch.sigmoid(self.lr(x))\n",
    "        return out"
   ],
   "id": "95845fc0e66069a9",
   "outputs": [],
   "execution_count": 63
  },
  {
   "metadata": {
    "ExecuteTime": {
     "end_time": "2025-07-05T23:13:20.113368Z",
     "start_time": "2025-07-05T23:13:20.109142Z"
    }
   },
   "cell_type": "code",
   "source": [
    "n_features = x_train.shape[1]\n",
    "model = LogisticRegressionModel(n_features)\n",
    "optim = torch.optim.SGD(model.parameters(), lr=1)\n",
    "criterion = torch.nn.BCELoss()"
   ],
   "id": "f2a5d95ba0490959",
   "outputs": [],
   "execution_count": 64
  },
  {
   "metadata": {
    "ExecuteTime": {
     "end_time": "2025-07-05T23:13:20.192489Z",
     "start_time": "2025-07-05T23:13:20.183020Z"
    }
   },
   "cell_type": "code",
   "source": [
    "EPOCHS = 5\n",
    "\n",
    "def train(model, optim, criterion, x, y, epochs=EPOCHS):\n",
    "    losses = []\n",
    "    for e in range(1, epochs + 1):\n",
    "        optim.zero_grad()\n",
    "        out = model(x)\n",
    "        loss = criterion(out, y)\n",
    "        loss.backward()\n",
    "        optim.step()\n",
    "        print(f\"Loss at epoch {e}: {loss.data}\")\n",
    "        losses.append(loss.data)\n",
    "    return model, losses\n",
    "\n",
    "s_time=time()\n",
    "model, losses = train(model, optim, criterion, x_train, y_train)\n",
    "e_time=time()\n",
    "t_time=e_time-s_time\n",
    "print(f\"Training time: {t_time}\")"
   ],
   "id": "c9519b1a75874809",
   "outputs": [
    {
     "name": "stdout",
     "output_type": "stream",
     "text": [
      "Loss at epoch 1: 0.7394548654556274\n",
      "Loss at epoch 2: 0.9332546591758728\n",
      "Loss at epoch 3: 1.1930832862854004\n",
      "Loss at epoch 4: 1.5239908695220947\n",
      "Loss at epoch 5: 1.0466498136520386\n",
      "Training time: 0.00410914421081543\n"
     ]
    }
   ],
   "execution_count": 65
  },
  {
   "metadata": {
    "ExecuteTime": {
     "end_time": "2025-07-05T23:13:20.421268Z",
     "start_time": "2025-07-05T23:13:20.261913Z"
    }
   },
   "cell_type": "code",
   "source": [
    "plt.title(\"Wykres funkcji straty w zależności od epoki\")\n",
    "plt.plot(losses)\n",
    "plt.xlabel(\"epoka\")\n",
    "plt.ylabel(\"funkcja straty\")"
   ],
   "id": "7bc76b93b252cd68",
   "outputs": [
    {
     "data": {
      "text/plain": [
       "Text(0, 0.5, 'funkcja straty')"
      ]
     },
     "execution_count": 66,
     "metadata": {},
     "output_type": "execute_result"
    },
    {
     "data": {
      "text/plain": [
       "<Figure size 640x480 with 1 Axes>"
      ],
      "image/png": "[encoded data removed]"
     },
     "metadata": {},
     "output_type": "display_data"
    }
   ],
   "execution_count": 66
  },
  {
   "metadata": {
    "ExecuteTime": {
     "end_time": "2025-07-05T23:13:20.462834Z",
     "start_time": "2025-07-05T23:13:20.458755Z"
    }
   },
   "cell_type": "code",
   "source": [
    "def accuracy(model, x, y):\n",
    "    out = model(x)\n",
    "    correct = torch.abs(y - out) < 0.5\n",
    "    return correct.float().mean()\n",
    "\n",
    "plain_accuracy = accuracy(model, x_test, y_test)\n",
    "print(f\"Accuracy: {plain_accuracy}\")"
   ],
   "id": "f8c755e992f6f78b",
   "outputs": [
    {
     "name": "stdout",
     "output_type": "stream",
     "text": [
      "Accuracy: 0.5432098507881165\n"
     ]
    }
   ],
   "execution_count": 67
  },
  {
   "metadata": {},
   "cell_type": "markdown",
   "source": [
    "## Predykcja na zaszyfrowanych danych\n",
    "\n",
    "Scenariusz, w którym serwer przechowuje model niezaszyfrowany.\n",
    "1. Klient przesyła do serwera zaszyfrowane dane oraz klucz publiczny\n",
    "2. Serwer szyfruje nim model\n",
    "3. Serwer przeprowadza predykcję używając zaszyfrowanych parametrów modelu i zaszyfrowanych danych\n",
    "4. Serwer zwraca wyniki predykcji\n",
    "5. Klient odszyfrowuje wyniki predykcji posługując się kluczem prywatnym\n",
    "\n",
    "Kluczowe miary to czas szyfrowania danych, czas predykcji oraz różnica pomiędzy wartościami predykcji otrzymanymi dla modelu niezaszyfrowanego i zaszyfrowanego.\n",
    "\n",
    "Klasa EncryptedLogRegAdapter jest adapterem dla wag wytrenowanego wcześniej na niezaszyfrowanych danych modelu. W konstruktorze tworzy kopię tych danych. Ma metodę encrypt, która szyfruje wagi, decrypt która odszyfrowuje wagi oraz operator wywołania funkcji, który wyznacza przewidywane wartości."
   ],
   "id": "193fafa78b33168f"
  },
  {
   "metadata": {
    "ExecuteTime": {
     "end_time": "2025-07-05T23:13:20.542648Z",
     "start_time": "2025-07-05T23:13:20.537816Z"
    }
   },
   "cell_type": "code",
   "source": [
    "class EncryptedLogRegAdapter:\n",
    "\n",
    "    def __init__(self, torch_lr):\n",
    "        self.weight = torch_lr.lr.weight.data.tolist()[0]\n",
    "        self.bias = torch_lr.lr.bias.data.tolist()\n",
    "\n",
    "    def forward(self, enc_x):\n",
    "        enc_out = enc_x.dot(self.weight) + self.bias\n",
    "        return enc_out\n",
    "\n",
    "    def __call__(self, *args, **kwargs):\n",
    "        return self.forward(*args, **kwargs)\n",
    "\n",
    "    def encrypt(self, context):\n",
    "        self.weight = ts.ckks_vector(context, self.weight)\n",
    "        self.bias = ts.ckks_vector(context, self.bias)\n",
    "\n",
    "    def decrypt(self, context):\n",
    "        self.weight = self.weight.decrypt()\n",
    "        self.bias = self.bias.decrypt()\n",
    "\n",
    "\n",
    "eelr = EncryptedLogRegAdapter(model)"
   ],
   "id": "54c1a0e62f9cd332",
   "outputs": [],
   "execution_count": 68
  },
  {
   "metadata": {
    "ExecuteTime": {
     "end_time": "2025-07-05T23:13:20.666313Z",
     "start_time": "2025-07-05T23:13:20.607150Z"
    }
   },
   "cell_type": "code",
   "source": [
    "# stopień wielomianu używany jako moduł wielomianowy\n",
    "poly_mod_degree = 4096\n",
    "coeff_mod_bit_sizes = [40, 20, 40]\n",
    "# tworzenie kontekstu Tenseal z użyciem schematu CKKS\n",
    "ctx_eval = ts.context(ts.SCHEME_TYPE.CKKS, poly_mod_degree, -1, coeff_mod_bit_sizes)\n",
    "ctx_eval.global_scale = 2 ** 20\n",
    "# klucze Galois do rotacji szyfrowanych wektorów oraz do operacji macierzowych\n",
    "ctx_eval.generate_galois_keys()"
   ],
   "id": "4a7641a722505e3",
   "outputs": [],
   "execution_count": 69
  },
  {
   "metadata": {
    "ExecuteTime": {
     "end_time": "2025-07-05T23:13:20.858635Z",
     "start_time": "2025-07-05T23:13:20.703870Z"
    }
   },
   "cell_type": "code",
   "source": [
    "s_time = time()\n",
    "enc_x_test = [ts.ckks_vector(ctx_eval, x.tolist()) for x in x_test]\n",
    "e_time = time()\n",
    "print(f\"Test data encryption time: {e_time - s_time}\")"
   ],
   "id": "928502fde2563557",
   "outputs": [
    {
     "name": "stdout",
     "output_type": "stream",
     "text": [
      "Test data encryption time: 0.15163588523864746\n"
     ]
    }
   ],
   "execution_count": 70
  },
  {
   "metadata": {
    "ExecuteTime": {
     "end_time": "2025-07-05T23:13:21.179741Z",
     "start_time": "2025-07-05T23:13:20.888837Z"
    }
   },
   "cell_type": "code",
   "source": [
    "## serwer zwraca zaszyfrowany wynik klasyfikacji, a następnie on odszyfrowywany i porównywany z rzeczywistymi etykietami\n",
    "\n",
    "def encrypted_evaluation(model, enc_x_test, y_test):\n",
    "    s_time = time()\n",
    "    correct = 0\n",
    "    for enc_x, y in zip(enc_x_test, y_test):\n",
    "        enc_out = model(enc_x)\n",
    "        out = enc_out.decrypt()\n",
    "        out = torch.tensor(out)\n",
    "        out = torch.sigmoid(out) #zwraca prawdopodobieństwo\n",
    "        if out<0.5:\n",
    "            out=0\n",
    "        else:\n",
    "            out=1\n",
    "        if out==y:\n",
    "            correct += 1\n",
    "\n",
    "    e_time = time()\n",
    "    print(f\"Evaluation time {e_time-s_time}\")\n",
    "    print(f\"Accuracy: {correct}/{len(x_test)} = {correct / len(x_test)}\")\n",
    "    return correct / len(x_test)\n",
    "\n",
    "\n",
    "encrypted_accuracy = encrypted_evaluation(eelr, enc_x_test, y_test)\n",
    "diff_accuracy = plain_accuracy - encrypted_accuracy\n",
    "print(f\"Plain data accuracy: {plain_accuracy}, Encrypted data accuracy: {encrypted_accuracy}, Difference: {diff_accuracy}\")"
   ],
   "id": "31c634875121e3a9",
   "outputs": [
    {
     "name": "stdout",
     "output_type": "stream",
     "text": [
      "Evaluation time 0.28607702255249023\n",
      "Accuracy: 44/81 = 0.5432098765432098\n",
      "Plain data accuracy: 0.5432098507881165, Encrypted data accuracy: 0.5432098765432098, Difference: 0.0\n"
     ]
    }
   ],
   "execution_count": 71
  },
  {
   "metadata": {},
   "cell_type": "markdown",
   "source": [
    "## Uczenie z szyfrowanym\n",
    "\n",
    "Scenariusz, w którym serwer otrzymuje zaszyfrowane dane i trenuje model z zaszyfrowanymi parametrami.\n",
    "1. Klient wysyła zaszyfrowane dane i klucz publiczny do serwera, przesyła także informacje o danych typu rozmiar danych i liczba rekordów\n",
    "2. Serwer inicjuje model i szyfruje go\n",
    "3. Następnie w pętli serwer wykonuje kolejne kroki uczenia, podczas których wyznacza funkcję straty, jej gradient względem wag, a następnie uaktualnia wagi\n",
    "4. Po zakończeniu treningu przesyła do klienta zaszyfrowane wagi lub cały zaszyfrowany model\n",
    "5. Klient odszyfrowuje wyniki, może ocenić jakość modelu i użyć go do predykcji na własnych danych\n",
    "\n",
    "W naszym przypadku w trakcie uczenia na zakońćzenie każdej epoki dane są odszyfrowywane i wyznaczana jest wartość metryki accuracy na zbiorze testowym.\n",
    "\n",
    "Rozwiązanie opracowane na podstawie:\n",
    "Chen, H., Gilad-Bachrach, R., Han, K. et al. Logistic regression over encrypted data from fully homomorphic encryption. BMC Med Genomics 11 (Suppl 4), 81 (2018). https://doi.org/10.1186/s12920-018-0397-z\n",
    "\n",
    "1. Zastosowano aproksymację funkcji sigmoidalnej za pomocą odpowiednio dobranego wielomianu, która używana jest jako funkcja aktywacji pojedynczego neuronu w ostatniej warstwie.\n",
    "2. Gradienty obliczane są jawnie, nie są stosowane obliczenia symboliczne."
   ],
   "id": "741dfc9bd7737929"
  },
  {
   "metadata": {
    "ExecuteTime": {
     "end_time": "2025-07-05T23:13:21.376488Z",
     "start_time": "2025-07-05T23:13:21.210875Z"
    }
   },
   "cell_type": "code",
   "source": [
    "import numpy as np\n",
    "import matplotlib.pyplot as plt\n",
    "\n",
    "def sigma(x):\n",
    "    return 0.5 + 0.197 * x - 0.004 * x**3\n",
    "\n",
    "x = np.linspace(-5, 5, 100)\n",
    "y = sigma(x)\n",
    "y2 = 1/(1+np.exp(-x))\n",
    "\n",
    "plt.figure(figsize=(8, 5))\n",
    "plt.plot(x, y, label=r'$\\sigma(x) = 0.5 + 0.197x - 0.004x^3$', color='blue')\n",
    "plt.plot(x, y2, label=r'$S(x) = \\frac{1}{1+exp(-x)}$', color='red')\n",
    "plt.axhline(0, color='gray', linestyle='--', linewidth=0.5)\n",
    "plt.axvline(0, color='gray', linestyle='--', linewidth=0.5)\n",
    "plt.xlabel('x')\n",
    "plt.ylabel('y')\n",
    "plt.title('Przybliżenie funkcji sigmoidalnej za pomocą wielomianu')\n",
    "plt.grid(True)\n",
    "plt.legend()\n",
    "plt.tight_layout()\n",
    "plt.show()\n"
   ],
   "id": "d0c06fb8f6ef76a6",
   "outputs": [
    {
     "data": {
      "text/plain": [
       "<Figure size 800x500 with 1 Axes>"
      ],
      "image/png": "[encoded data removed]"
     },
     "metadata": {},
     "output_type": "display_data"
    }
   ],
   "execution_count": 72
  },
  {
   "metadata": {},
   "cell_type": "markdown",
   "source": [
    "Funkcja forward wyznacza dla wejścia zakodowanego prawdopodobieństwo klasy ze wzoru $\\frac{1}{1+exp(-w^TX)}$, czyli po przemnożeniu wektora przez wagi wykonywane są obliczenia funkcji sigmoidalnej.\n",
    "Funkcja backward oblicza wartości gradientu ze wzoruów:\n",
    "$\\frac{\\partial \\mathcal{L}}{\\partial w} = x \\cdot (\\hat{y} - y)$ oraz\n",
    "$\\frac{\\partial \\mathcal{L}}{\\partial b} = \\hat{y} - y$\n",
    "\n",
    "Funkcja update_parameters aktualizuje wagi stosując algorytm gradientu prostego i stosowana jest niewielka regularyzacja.\n",
    "\n",
    "Funkcja plain_accuracy oblicza accuracy dostając jako parametry dane niezaszyfrowane."
   ],
   "id": "3412e6e1668ca984"
  },
  {
   "metadata": {
    "ExecuteTime": {
     "end_time": "2025-07-05T23:13:21.411912Z",
     "start_time": "2025-07-05T23:13:21.405382Z"
    }
   },
   "cell_type": "code",
   "source": [
    "class EncryptedLogisticRegression:\n",
    "\n",
    "    def __init__(self, torch_lr):\n",
    "        self.weight = torch_lr.lr.weight.data.tolist()[0]\n",
    "        self.bias = torch_lr.lr.bias.data.tolist()\n",
    "        self._delta_w = 0\n",
    "        self._delta_b = 0\n",
    "        self._count = 0\n",
    "        self.learning_rate=0.1\n",
    "\n",
    "    def forward(self, enc_x):\n",
    "        enc_out = enc_x.dot(self.weight) + self.bias\n",
    "        enc_out = EncryptedLogisticRegression.sigmoid(enc_out)\n",
    "        return enc_out\n",
    "\n",
    "    def backward(self, enc_x, enc_out, enc_y):\n",
    "        out_minus_y = (enc_out - enc_y)\n",
    "        self._delta_w += enc_x * out_minus_y\n",
    "        self._delta_b += out_minus_y\n",
    "        self._count += 1\n",
    "\n",
    "    def update_parameters(self):\n",
    "        self.weight -= self._delta_w * (self.learning_rate / self._count) + self.weight * 0.05\n",
    "        self.bias -= self._delta_b * (self.learning_rate / self._count)\n",
    "        self._delta_w = 0\n",
    "        self._delta_b = 0\n",
    "        self._count = 0\n",
    "\n",
    "    @staticmethod\n",
    "    def sigmoid(enc_x):\n",
    "        return enc_x.polyval([0.5, 0.197, 0, -0.004])\n",
    "\n",
    "    def plain_accuracy(self, x_test, y_test):\n",
    "        w = torch.tensor(self.weight)\n",
    "        b = torch.tensor(self.bias)\n",
    "        out = torch.sigmoid(x_test.matmul(w) + b).reshape(-1, 1)\n",
    "        y_pred = (out >= 0.5).int()\n",
    "        return (y_pred == y_test).float().mean().item()\n",
    "\n",
    "    def encrypt(self, context):\n",
    "        self.weight = ts.ckks_vector(context, self.weight)\n",
    "        self.bias = ts.ckks_vector(context, self.bias)\n",
    "\n",
    "    def decrypt(self):\n",
    "        self.weight = self.weight.decrypt()\n",
    "        self.bias = self.bias.decrypt()\n",
    "\n",
    "    def __call__(self, *args, **kwargs):\n",
    "        return self.forward(*args, **kwargs)\n"
   ],
   "id": "cb9675bc5d3a9f32",
   "outputs": [],
   "execution_count": 73
  },
  {
   "metadata": {
    "ExecuteTime": {
     "end_time": "2025-07-05T23:13:22.141028Z",
     "start_time": "2025-07-05T23:13:21.472924Z"
    }
   },
   "cell_type": "code",
   "source": [
    "poly_mod_degree = 8192\n",
    "coeff_mod_bit_sizes = [40, 21, 21, 21, 21, 21, 21, 40]\n",
    "ctx_training = ts.context(ts.SCHEME_TYPE.CKKS, poly_mod_degree, -1, coeff_mod_bit_sizes)\n",
    "ctx_training.global_scale = 2 ** 21\n",
    "ctx_training.generate_galois_keys()"
   ],
   "id": "c37b65be824d4386",
   "outputs": [],
   "execution_count": 74
  },
  {
   "metadata": {
    "ExecuteTime": {
     "end_time": "2025-07-05T23:13:25.177246Z",
     "start_time": "2025-07-05T23:13:22.177319Z"
    }
   },
   "cell_type": "code",
   "source": [
    "#szyfrowanie zbioru uczącego\n",
    "s_time = time()\n",
    "enc_x_train = [ts.ckks_vector(ctx_training, x.tolist()) for x in x_train]\n",
    "enc_y_train = [ts.ckks_vector(ctx_training, y.tolist()) for y in y_train]\n",
    "e_time = time()\n",
    "print(f\"Train data encryption time {e_time-s_time}\")"
   ],
   "id": "eb3009869e4d3a69",
   "outputs": [
    {
     "name": "stdout",
     "output_type": "stream",
     "text": [
      "Train data encryption time 2.996648073196411\n"
     ]
    }
   ],
   "execution_count": 75
  },
  {
   "metadata": {
    "ExecuteTime": {
     "end_time": "2025-07-05T23:15:01.227753Z",
     "start_time": "2025-07-05T23:13:25.204057Z"
    }
   },
   "cell_type": "code",
   "source": [
    "from tqdm import tqdm\n",
    "\n",
    "eelr = EncryptedLogisticRegression(LogisticRegressionModel(n_features))\n",
    "accuracy = eelr.plain_accuracy(x_test, y_test)\n",
    "print(f\"Accuracy at epoch #0 is {accuracy}\")\n",
    "accuracies=[]\n",
    "times = []\n",
    "for epoch in tqdm(range(EPOCHS)):\n",
    "    eelr.encrypt(ctx_training)\n",
    "    s_time = time()\n",
    "    for enc_x, enc_y in zip(enc_x_train, enc_y_train):\n",
    "        enc_out = eelr.forward(enc_x)\n",
    "        eelr.backward(enc_x, enc_out, enc_y)\n",
    "    eelr.update_parameters()\n",
    "    e_time = time()\n",
    "    times.append(e_time - s_time)\n",
    "\n",
    "    eelr.decrypt()\n",
    "    accuracy = eelr.plain_accuracy(x_test, y_test)\n",
    "    accuracies.append(accuracy)\n",
    "    print(f\"Accuracy at epoch #{epoch + 1} is {accuracy}\")\n",
    "\n",
    "\n",
    "print(f\"\\nAverage time per epoch: {sum(times) / len(times)}\")\n",
    "print(f\"Final accuracy: {accuracy}\")\n",
    "diff_accuracy = plain_accuracy - accuracy\n",
    "print(f\"Plain data accuracy: {plain_accuracy}, Encrypted data accuracy: {accuracy}, Difference: {diff_accuracy}\")"
   ],
   "id": "a27567d3c04ad338",
   "outputs": [
    {
     "name": "stdout",
     "output_type": "stream",
     "text": [
      "Accuracy at epoch #0 is 0.3827160596847534\n"
     ]
    },
    {
     "name": "stderr",
     "output_type": "stream",
     "text": [
      " 20%|██        | 1/5 [00:19<01:19, 20.00s/it]"
     ]
    },
    {
     "name": "stdout",
     "output_type": "stream",
     "text": [
      "Accuracy at epoch #1 is 0.5432098507881165\n"
     ]
    },
    {
     "name": "stderr",
     "output_type": "stream",
     "text": [
      " 40%|████      | 2/5 [00:38<00:58, 19.36s/it]"
     ]
    },
    {
     "name": "stdout",
     "output_type": "stream",
     "text": [
      "Accuracy at epoch #2 is 0.5432098507881165\n"
     ]
    },
    {
     "name": "stderr",
     "output_type": "stream",
     "text": [
      " 60%|██████    | 3/5 [00:57<00:38, 19.08s/it]"
     ]
    },
    {
     "name": "stdout",
     "output_type": "stream",
     "text": [
      "Accuracy at epoch #3 is 0.5432098507881165\n"
     ]
    },
    {
     "name": "stderr",
     "output_type": "stream",
     "text": [
      " 80%|████████  | 4/5 [01:16<00:18, 18.87s/it]"
     ]
    },
    {
     "name": "stdout",
     "output_type": "stream",
     "text": [
      "Accuracy at epoch #4 is 0.5432098507881165\n"
     ]
    },
    {
     "name": "stderr",
     "output_type": "stream",
     "text": [
      "100%|██████████| 5/5 [01:36<00:00, 19.20s/it]"
     ]
    },
    {
     "name": "stdout",
     "output_type": "stream",
     "text": [
      "Accuracy at epoch #5 is 0.5432098507881165\n",
      "\n",
      "Average time per epoch: 19.183826160430907\n",
      "Final accuracy: 0.5432098507881165\n",
      "Plain data accuracy: 0.5432098507881165, Encrypted data accuracy: 0.5432098507881165, Difference: 0.0\n"
     ]
    },
    {
     "name": "stderr",
     "output_type": "stream",
     "text": [
      "\n"
     ]
    }
   ],
   "execution_count": 76
  },
  {
   "metadata": {},
   "cell_type": "markdown",
   "source": "Wartość accuracy na zaszyfrowanych danych okazała się lepsza niż w przypadku plaintextu. Jest to spowodowane tym, że przydział etykiet opiera się na porównaniu prawdopodobieńśtwa z wartością progową 0.5. W przypadku niedokładności obliczeń może się zdarzyć, że skumulują się i przypadkowo zwrócą większą dokładność. Wydaje się, że klasyfikator plaintext był gorszy niż losowy, a klasyfikator na zaszyfrowanych danych zwrócił po prostu losowe wartości.",
   "id": "cc8ef2474aaf3757"
  },
  {
   "metadata": {
    "ExecuteTime": {
     "end_time": "2025-07-05T23:15:01.411539Z",
     "start_time": "2025-07-05T23:15:01.265406Z"
    }
   },
   "cell_type": "code",
   "source": [
    "plt.title(\"Miara accuracy na zbiorze testowym w trakcie uczenia\")\n",
    "plt.xlabel(\"epoka\")\n",
    "plt.ylabel(\"accuracy\")\n",
    "plt.plot(accuracies)"
   ],
   "id": "614ebd3c4a0751d4",
   "outputs": [
    {
     "data": {
      "text/plain": [
       "[<matplotlib.lines.Line2D at 0x74e059052470>]"
      ]
     },
     "execution_count": 77,
     "metadata": {},
     "output_type": "execute_result"
    },
    {
     "data": {
      "text/plain": [
       "<Figure size 640x480 with 1 Axes>"
      ],
      "image/png": "[encoded data removed]"
     },
     "metadata": {},
     "output_type": "display_data"
    }
   ],
   "execution_count": 77
  }
 ],
 "metadata": {
  "kernelspec": {
   "display_name": "Python 3",
   "language": "python",
   "name": "python3"
  },
  "language_info": {
   "codemirror_mode": {
    "name": "ipython",
    "version": 2
   },
   "file_extension": ".py",
   "mimetype": "text/x-python",
   "name": "python",
   "nbconvert_exporter": "python",
   "pygments_lexer": "ipython2",
   "version": "2.7.6"
  }
 },
 "nbformat": 4,
 "nbformat_minor": 5
}
