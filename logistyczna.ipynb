{
 "cells": [
  {
   "cell_type": "code",
   "id": "initial_id",
   "metadata": {
    "collapsed": true,
    "ExecuteTime": {
     "end_time": "2025-07-05T23:02:50.128567Z",
     "start_time": "2025-07-05T23:02:50.125509Z"
    }
   },
   "source": [
    "import torch\n",
    "import tenseal as ts\n",
    "import pandas as pd\n",
    "import random\n",
    "from time import time\n",
    "import numpy as np\n",
    "import matplotlib.pyplot as plt"
   ],
   "outputs": [],
   "execution_count": 101
  },
  {
   "metadata": {
    "ExecuteTime": {
     "end_time": "2025-07-05T23:02:50.218457Z",
     "start_time": "2025-07-05T23:02:50.213755Z"
    }
   },
   "cell_type": "code",
   "source": [
    "def split_train_test(X, y, test_ratio=0.3):\n",
    "    idxs = [i for i in range(len(X))]\n",
    "    random.shuffle(idxs)\n",
    "    delim = int(len(X) * test_ratio)\n",
    "    test_idxs, train_idxs = idxs[:delim], idxs[delim:]\n",
    "    return X[train_idxs], y[train_idxs], X[test_idxs], y[test_idxs]"
   ],
   "id": "d141266cf6459806",
   "outputs": [],
   "execution_count": 102
  },
  {
   "metadata": {},
   "cell_type": "markdown",
   "source": [
    "## Zbiór danych\n",
    "Zbiór danych pochodził z UCI repository https://archive.ics.uci.edu/dataset/17/breast+cancer+wisconsin+diagnostic Ma 32 cechy, zmienną objaśnianą jest diagnosis."
   ],
   "id": "695a85c76e64acd3"
  },
  {
   "metadata": {
    "ExecuteTime": {
     "end_time": "2025-07-05T23:02:50.323652Z",
     "start_time": "2025-07-05T23:02:50.310755Z"
    }
   },
   "cell_type": "code",
   "source": [
    "from sklearn.preprocessing import LabelEncoder\n",
    "def breast_cancer():\n",
    "    df=pd.read_csv('./data/wdbc.data', header=None)\n",
    "    df=df.drop(columns=[0])\n",
    "    y=df[1]\n",
    "    X=df.drop(columns=[1])\n",
    "\n",
    "    le = LabelEncoder()\n",
    "    y=le.fit_transform(y)\n",
    "\n",
    "    X = torch.tensor(X.values).float()\n",
    "    X = (X - X.mean()) / X.std()\n",
    "    y=torch.tensor(y).float().unsqueeze(1)\n",
    "    return split_train_test(X, y)\n",
    "\n",
    "x_train, y_train, x_test, y_test = breast_cancer()\n",
    "\n",
    "print(f\"X_train shape: {x_train.shape}\")\n",
    "print(f\"y_train shape: {y_train.shape}\")\n",
    "print(f\"X_test shape: {x_test.shape}\")\n",
    "print(f\"y_test shape: {y_test.shape}\")"
   ],
   "id": "2e9b01c74f8578f4",
   "outputs": [
    {
     "name": "stdout",
     "output_type": "stream",
     "text": [
      "X_train shape: torch.Size([399, 30])\n",
      "y_train shape: torch.Size([399, 1])\n",
      "X_test shape: torch.Size([170, 30])\n",
      "y_test shape: torch.Size([170, 1])\n"
     ]
    }
   ],
   "execution_count": 103
  },
  {
   "metadata": {},
   "cell_type": "markdown",
   "source": [
    "## Regresja logistyczna bez szyfrowania\n",
    "\n",
    "Regresja logistyczna to algorytm klasyfikacji binarnej. Parametrami modelu jest wektor wag $w$ oraz bias $b$. Podczas wnioskowania wyznaczana jest wartość prawdopodobieństwa przynależności do jednej z klas $$p(x)=\\frac{1}{1+exp(-w^Tx+b)}$$ dla danych wejściowych x. Jeżeli wartość ta jest większa niż 0.5 przydzielana jest etykieta danej klasy, jeśli mniejsza, przydzielana jest etykieta klasy przeciwnej.\n",
    "\n",
    "Problem regresji logistycznej nie ma rozwiązania analitycznego, stosuje się metody gradientowe, aby wyznaczyć wartości wag. W procesie optymalizacji obliczane są gradienty funkcji straty względem wag i elementu bias, a następnie wartości gradientów po przemnożeniu przez niewielką stałą (learning rate) są odejmowane od wag.\n",
    "$$\\mathcal{L}(\\theta) = -\\frac{1}{n} \\sum_{i=1}^{n} \\left[ y^{(i)} \\log(\\sigma(\\theta^T x^{(i)})) + (1 - y^{(i)}) \\log(1 - \\sigma(\\theta^T x^{(i)})) \\right]$$"
   ],
   "id": "bf308634b3b14186"
  },
  {
   "metadata": {
    "ExecuteTime": {
     "end_time": "2025-07-05T23:02:50.423654Z",
     "start_time": "2025-07-05T23:02:50.419062Z"
    }
   },
   "cell_type": "code",
   "source": [
    "class LogisticRegressionModel(torch.nn.Module):\n",
    "\n",
    "    def __init__(self, n_features):\n",
    "        super(LogisticRegressionModel, self).__init__()\n",
    "        self.lr = torch.nn.Linear(n_features, 1)\n",
    "\n",
    "    def forward(self, x):\n",
    "        out = torch.sigmoid(self.lr(x))\n",
    "        return out"
   ],
   "id": "95845fc0e66069a9",
   "outputs": [],
   "execution_count": 104
  },
  {
   "metadata": {
    "ExecuteTime": {
     "end_time": "2025-07-05T23:02:50.549350Z",
     "start_time": "2025-07-05T23:02:50.545296Z"
    }
   },
   "cell_type": "code",
   "source": [
    "n_features = x_train.shape[1]\n",
    "model = LogisticRegressionModel(n_features)\n",
    "optim = torch.optim.SGD(model.parameters(), lr=1)\n",
    "criterion = torch.nn.BCELoss()"
   ],
   "id": "f2a5d95ba0490959",
   "outputs": [],
   "execution_count": 105
  },
  {
   "metadata": {
    "ExecuteTime": {
     "end_time": "2025-07-05T23:02:50.625130Z",
     "start_time": "2025-07-05T23:02:50.609738Z"
    }
   },
   "cell_type": "code",
   "source": [
    "EPOCHS = 20\n",
    "\n",
    "def train(model, optim, criterion, x, y, epochs=EPOCHS):\n",
    "    losses = []\n",
    "    for e in range(1, epochs + 1):\n",
    "        optim.zero_grad()\n",
    "        out = model(x)\n",
    "        loss = criterion(out, y)\n",
    "        loss.backward()\n",
    "        optim.step()\n",
    "        print(f\"Loss at epoch {e}: {loss.data}\")\n",
    "        losses.append(loss.data)\n",
    "    return model, losses\n",
    "\n",
    "s_time=time()\n",
    "model, losses = train(model, optim, criterion, x_train, y_train)\n",
    "e_time=time()\n",
    "t_time=e_time-s_time\n",
    "print(f\"Training time: {t_time}\")"
   ],
   "id": "c9519b1a75874809",
   "outputs": [
    {
     "name": "stdout",
     "output_type": "stream",
     "text": [
      "Loss at epoch 1: 0.7100813984870911\n",
      "Loss at epoch 2: 1.235770344734192\n",
      "Loss at epoch 3: 2.5592470169067383\n",
      "Loss at epoch 4: 2.908649444580078\n",
      "Loss at epoch 5: 0.5005465745925903\n",
      "Loss at epoch 6: 1.376728892326355\n",
      "Loss at epoch 7: 1.3604786396026611\n",
      "Loss at epoch 8: 2.850395679473877\n",
      "Loss at epoch 9: 0.2628549039363861\n",
      "Loss at epoch 10: 0.2604154348373413\n",
      "Loss at epoch 11: 0.2585357129573822\n",
      "Loss at epoch 12: 0.25760892033576965\n",
      "Loss at epoch 13: 0.25766947865486145\n",
      "Loss at epoch 14: 0.2601971924304962\n",
      "Loss at epoch 15: 0.26365402340888977\n",
      "Loss at epoch 16: 0.27359896898269653\n",
      "Loss at epoch 17: 0.2807562053203583\n",
      "Loss at epoch 18: 0.3042480945587158\n",
      "Loss at epoch 19: 0.3098453879356384\n",
      "Loss at epoch 20: 0.3518337905406952\n",
      "Training time: 0.009706497192382812\n"
     ]
    }
   ],
   "execution_count": 106
  },
  {
   "metadata": {
    "ExecuteTime": {
     "end_time": "2025-07-05T23:02:50.849296Z",
     "start_time": "2025-07-05T23:02:50.705226Z"
    }
   },
   "cell_type": "code",
   "source": [
    "plt.title(\"Wykres funkcji straty w zależności od epoki\")\n",
    "plt.plot(losses)\n",
    "plt.xlabel(\"epoka\")\n",
    "plt.ylabel(\"funkcja straty\")"
   ],
   "id": "7bc76b93b252cd68",
   "outputs": [
    {
     "data": {
      "text/plain": [
       "Text(0, 0.5, 'funkcja straty')"
      ]
     },
     "execution_count": 107,
     "metadata": {},
     "output_type": "execute_result"
    },
    {
     "data": {
      "text/plain": [
       "<Figure size 640x480 with 1 Axes>"
      ],
      "image/png": "[encoded data removed]"
     },
     "metadata": {},
     "output_type": "display_data"
    }
   ],
   "execution_count": 107
  },
  {
   "metadata": {
    "ExecuteTime": {
     "end_time": "2025-07-05T23:02:50.974710Z",
     "start_time": "2025-07-05T23:02:50.969873Z"
    }
   },
   "cell_type": "code",
   "source": [
    "def accuracy(model, x, y):\n",
    "    out = model(x)\n",
    "    correct = torch.abs(y - out) < 0.5\n",
    "    return correct.float().mean()\n",
    "\n",
    "plain_accuracy = accuracy(model, x_test, y_test)\n",
    "print(f\"Accuracy: {plain_accuracy}\")"
   ],
   "id": "f8c755e992f6f78b",
   "outputs": [
    {
     "name": "stdout",
     "output_type": "stream",
     "text": [
      "Accuracy: 0.8294117450714111\n"
     ]
    }
   ],
   "execution_count": 108
  },
  {
   "metadata": {},
   "cell_type": "markdown",
   "source": [
    "## Predykcja na zaszyfrowanych danych\n",
    "\n",
    "Scenariusz, w którym serwer przechowuje model niezaszyfrowany.\n",
    "1. Klient przesyła do serwera zaszyfrowane dane oraz klucz publiczny\n",
    "2. Serwer szyfruje nim model\n",
    "3. Serwer przeprowadza predykcję używając zaszyfrowanych parametrów modelu i zaszyfrowanych danych\n",
    "4. Serwer zwraca wyniki predykcji\n",
    "5. Klient odszyfrowuje wyniki predykcji posługując się kluczem prywatnym\n",
    "\n",
    "Kluczowe miary to czas szyfrowania danych, czas predykcji oraz różnica pomiędzy wartościami predykcji otrzymanymi dla modelu niezaszyfrowanego i zaszyfrowanego.\n",
    "\n",
    "Klasa EncryptedLogRegAdapter jest adapterem dla wag wytrenowanego wcześniej na niezaszyfrowanych danych modelu. W konstruktorze tworzy kopię tych danych. Ma metodę encrypt, która szyfruje wagi, decrypt która odszyfrowuje wagi oraz operator wywołania funkcji, który wyznacza przewidywane wartości."
   ],
   "id": "193fafa78b33168f"
  },
  {
   "metadata": {
    "ExecuteTime": {
     "end_time": "2025-07-05T23:02:51.075585Z",
     "start_time": "2025-07-05T23:02:51.071253Z"
    }
   },
   "cell_type": "code",
   "source": [
    "class EncryptedLogRegAdapter:\n",
    "\n",
    "    def __init__(self, torch_lr):\n",
    "        self.weight = torch_lr.lr.weight.data.tolist()[0]\n",
    "        self.bias = torch_lr.lr.bias.data.tolist()\n",
    "\n",
    "    def forward(self, enc_x):\n",
    "        enc_out = enc_x.dot(self.weight) + self.bias\n",
    "        return enc_out\n",
    "\n",
    "    def __call__(self, *args, **kwargs):\n",
    "        return self.forward(*args, **kwargs)\n",
    "\n",
    "    def encrypt(self, context):\n",
    "        self.weight = ts.ckks_vector(context, self.weight)\n",
    "        self.bias = ts.ckks_vector(context, self.bias)\n",
    "\n",
    "    def decrypt(self, context):\n",
    "        self.weight = self.weight.decrypt()\n",
    "        self.bias = self.bias.decrypt()\n",
    "\n",
    "\n",
    "eelr = EncryptedLogRegAdapter(model)"
   ],
   "id": "54c1a0e62f9cd332",
   "outputs": [],
   "execution_count": 109
  },
  {
   "metadata": {
    "ExecuteTime": {
     "end_time": "2025-07-05T23:02:51.210176Z",
     "start_time": "2025-07-05T23:02:51.161437Z"
    }
   },
   "cell_type": "code",
   "source": [
    "# stopień wielomianu używany jako moduł wielomianowy\n",
    "poly_mod_degree = 4096\n",
    "coeff_mod_bit_sizes = [40, 20, 40]\n",
    "# tworzenie kontekstu Tenseal z użyciem schematu CKKS\n",
    "ctx_eval = ts.context(ts.SCHEME_TYPE.CKKS, poly_mod_degree, -1, coeff_mod_bit_sizes)\n",
    "ctx_eval.global_scale = 2 ** 20\n",
    "# klucze Galois do rotacji szyfrowanych wektorów oraz do operacji macierzowych\n",
    "ctx_eval.generate_galois_keys()"
   ],
   "id": "4a7641a722505e3",
   "outputs": [],
   "execution_count": 110
  },
  {
   "metadata": {
    "ExecuteTime": {
     "end_time": "2025-07-05T23:02:51.636115Z",
     "start_time": "2025-07-05T23:02:51.296539Z"
    }
   },
   "cell_type": "code",
   "source": [
    "s_time = time()\n",
    "enc_x_test = [ts.ckks_vector(ctx_eval, x.tolist()) for x in x_test]\n",
    "e_time = time()\n",
    "print(f\"Test data encryption time: {e_time - s_time}\")"
   ],
   "id": "928502fde2563557",
   "outputs": [
    {
     "name": "stdout",
     "output_type": "stream",
     "text": [
      "Test data encryption time: 0.33590006828308105\n"
     ]
    }
   ],
   "execution_count": 111
  },
  {
   "metadata": {
    "ExecuteTime": {
     "end_time": "2025-07-05T23:02:52.835283Z",
     "start_time": "2025-07-05T23:02:51.686100Z"
    }
   },
   "cell_type": "code",
   "source": [
    "## serwer zwraca zaszyfrowany wynik klasyfikacji, a następnie on odszyfrowywany i porównywany z rzeczywistymi etykietami\n",
    "\n",
    "def encrypted_evaluation(model, enc_x_test, y_test):\n",
    "    s_time = time()\n",
    "    correct = 0\n",
    "    for enc_x, y in zip(enc_x_test, y_test):\n",
    "        enc_out = model(enc_x)\n",
    "        out = enc_out.decrypt()\n",
    "        out = torch.tensor(out)\n",
    "        out = torch.sigmoid(out) #zwraca prawdopodobieństwo\n",
    "        if out<0.5:\n",
    "            out=0\n",
    "        else:\n",
    "            out=1\n",
    "        if out==y:\n",
    "            correct += 1\n",
    "\n",
    "    e_time = time()\n",
    "    print(f\"Evaluation time {e_time-s_time}\")\n",
    "    print(f\"Accuracy: {correct}/{len(x_test)} = {correct / len(x_test)}\")\n",
    "    return correct / len(x_test)\n",
    "\n",
    "\n",
    "encrypted_accuracy = encrypted_evaluation(eelr, enc_x_test, y_test)\n",
    "diff_accuracy = plain_accuracy - encrypted_accuracy\n",
    "print(f\"Plain data accuracy: {plain_accuracy}, Encrypted data accuracy: {encrypted_accuracy}, Difference: {diff_accuracy}\")"
   ],
   "id": "31c634875121e3a9",
   "outputs": [
    {
     "name": "stdout",
     "output_type": "stream",
     "text": [
      "Evaluation time 1.1443018913269043\n",
      "Accuracy: 148/170 = 0.8705882352941177\n",
      "Plain data accuracy: 0.8294117450714111, Encrypted data accuracy: 0.8705882352941177, Difference: -0.04117649793624878\n"
     ]
    }
   ],
   "execution_count": 112
  },
  {
   "metadata": {},
   "cell_type": "markdown",
   "source": [
    "## Uczenie z szyfrowanym\n",
    "\n",
    "Scenariusz, w którym serwer otrzymuje zaszyfrowane dane i trenuje model z zaszyfrowanymi parametrami.\n",
    "1. Klient wysyła zaszyfrowane dane i klucz publiczny do serwera, przesyła także informacje o danych typu rozmiar danych i liczba rekordów\n",
    "2. Serwer inicjuje model i szyfruje go\n",
    "3. Następnie w pętli serwer wykonuje kolejne kroki uczenia, podczas których wyznacza funkcję straty, jej gradient względem wag, a następnie uaktualnia wagi\n",
    "4. Po zakończeniu treningu przesyła do klienta zaszyfrowane wagi lub cały zaszyfrowany model\n",
    "5. Klient odszyfrowuje wyniki, może ocenić jakość modelu i użyć go do predykcji na własnych danych\n",
    "\n",
    "W naszym przypadku w trakcie uczenia na zakońćzenie każdej epoki dane są odszyfrowywane i wyznaczana jest wartość metryki accuracy na zbiorze testowym.\n",
    "\n",
    "Rozwiązanie opracowane na podstawie:\n",
    "Chen, H., Gilad-Bachrach, R., Han, K. et al. Logistic regression over encrypted data from fully homomorphic encryption. BMC Med Genomics 11 (Suppl 4), 81 (2018). https://doi.org/10.1186/s12920-018-0397-z\n",
    "\n",
    "1. Zastosowano aproksymację funkcji sigmoidalnej za pomocą odpowiednio dobranego wielomianu, która używana jest jako funkcja aktywacji pojedynczego neuronu w ostatniej warstwie.\n",
    "2. Gradienty obliczane są jawnie, nie są stosowane obliczenia symboliczne."
   ],
   "id": "741dfc9bd7737929"
  },
  {
   "metadata": {
    "ExecuteTime": {
     "end_time": "2025-07-05T23:02:53.046309Z",
     "start_time": "2025-07-05T23:02:52.881346Z"
    }
   },
   "cell_type": "code",
   "source": [
    "import numpy as np\n",
    "import matplotlib.pyplot as plt\n",
    "\n",
    "def sigma(x):\n",
    "    return 0.5 + 0.197 * x - 0.004 * x**3\n",
    "\n",
    "x = np.linspace(-5, 5, 100)\n",
    "y = sigma(x)\n",
    "y2 = 1/(1+np.exp(-x))\n",
    "\n",
    "plt.figure(figsize=(8, 5))\n",
    "plt.plot(x, y, label=r'$\\sigma(x) = 0.5 + 0.197x - 0.004x^3$', color='blue')\n",
    "plt.plot(x, y2, label=r'$S(x) = \\frac{1}{1+exp(-x)}$', color='red')\n",
    "plt.axhline(0, color='gray', linestyle='--', linewidth=0.5)\n",
    "plt.axvline(0, color='gray', linestyle='--', linewidth=0.5)\n",
    "plt.xlabel('x')\n",
    "plt.ylabel('y')\n",
    "plt.title('Przybliżenie funkcji sigmoidalnej za pomocą wielomianu')\n",
    "plt.grid(True)\n",
    "plt.legend()\n",
    "plt.tight_layout()\n",
    "plt.show()\n"
   ],
   "id": "d0c06fb8f6ef76a6",
   "outputs": [
    {
     "data": {
      "text/plain": [
       "<Figure size 800x500 with 1 Axes>"
      ],
      "image/png": "[encoded data removed]"
     },
     "metadata": {},
     "output_type": "display_data"
    }
   ],
   "execution_count": 113
  },
  {
   "metadata": {},
   "cell_type": "markdown",
   "source": [
    "Funkcja forward wyznacza dla wejścia zakodowanego prawdopodobieństwo klasy ze wzoru $\\frac{1}{1+exp(-w^TX)}$, czyli po przemnożeniu wektora przez wagi wykonywane są obliczenia funkcji sigmoidalnej.\n",
    "Funkcja backward oblicza wartości gradientu ze wzoruów:\n",
    "$\\frac{\\partial \\mathcal{L}}{\\partial w} = x \\cdot (\\hat{y} - y)$ oraz\n",
    "$\\frac{\\partial \\mathcal{L}}{\\partial b} = \\hat{y} - y$\n",
    "\n",
    "Funkcja update_parameters aktualizuje wagi stosując algorytm gradientu prostego i stosowana jest niewielka regularyzacja.\n",
    "\n",
    "Funkcja plain_accuracy oblicza accuracy dostając jako parametry dane niezaszyfrowane."
   ],
   "id": "3412e6e1668ca984"
  },
  {
   "metadata": {
    "ExecuteTime": {
     "end_time": "2025-07-05T23:02:53.108988Z",
     "start_time": "2025-07-05T23:02:53.099543Z"
    }
   },
   "cell_type": "code",
   "source": [
    "class EncryptedLogisticRegression:\n",
    "\n",
    "    def __init__(self, torch_lr):\n",
    "        self.weight = torch_lr.lr.weight.data.tolist()[0]\n",
    "        self.bias = torch_lr.lr.bias.data.tolist()\n",
    "        self._delta_w = 0\n",
    "        self._delta_b = 0\n",
    "        self._count = 0\n",
    "        self.learning_rate=0.1\n",
    "\n",
    "    def forward(self, enc_x):\n",
    "        enc_out = enc_x.dot(self.weight) + self.bias\n",
    "        enc_out = EncryptedLogisticRegression.sigmoid(enc_out)\n",
    "        return enc_out\n",
    "\n",
    "    def backward(self, enc_x, enc_out, enc_y):\n",
    "        out_minus_y = (enc_out - enc_y)\n",
    "        self._delta_w += enc_x * out_minus_y\n",
    "        self._delta_b += out_minus_y\n",
    "        self._count += 1\n",
    "\n",
    "    def update_parameters(self):\n",
    "        self.weight -= self._delta_w * (self.learning_rate / self._count) + self.weight * 0.05\n",
    "        self.bias -= self._delta_b * (self.learning_rate / self._count)\n",
    "        self._delta_w = 0\n",
    "        self._delta_b = 0\n",
    "        self._count = 0\n",
    "\n",
    "    @staticmethod\n",
    "    def sigmoid(enc_x):\n",
    "        return enc_x.polyval([0.5, 0.197, 0, -0.004])\n",
    "\n",
    "    def plain_accuracy(self, x_test, y_test):\n",
    "        w = torch.tensor(self.weight)\n",
    "        b = torch.tensor(self.bias)\n",
    "        out = torch.sigmoid(x_test.matmul(w) + b).reshape(-1, 1)\n",
    "        y_pred = (out >= 0.5).int()\n",
    "        return (y_pred == y_test).float().mean().item()\n",
    "\n",
    "    def encrypt(self, context):\n",
    "        self.weight = ts.ckks_vector(context, self.weight)\n",
    "        self.bias = ts.ckks_vector(context, self.bias)\n",
    "\n",
    "    def decrypt(self):\n",
    "        self.weight = self.weight.decrypt()\n",
    "        self.bias = self.bias.decrypt()\n",
    "\n",
    "    def __call__(self, *args, **kwargs):\n",
    "        return self.forward(*args, **kwargs)\n"
   ],
   "id": "cb9675bc5d3a9f32",
   "outputs": [],
   "execution_count": 114
  },
  {
   "metadata": {
    "ExecuteTime": {
     "end_time": "2025-07-05T23:02:53.909650Z",
     "start_time": "2025-07-05T23:02:53.196082Z"
    }
   },
   "cell_type": "code",
   "source": [
    "poly_mod_degree = 8192\n",
    "coeff_mod_bit_sizes = [40, 21, 21, 21, 21, 21, 21, 40]\n",
    "ctx_training = ts.context(ts.SCHEME_TYPE.CKKS, poly_mod_degree, -1, coeff_mod_bit_sizes)\n",
    "ctx_training.global_scale = 2 ** 21\n",
    "ctx_training.generate_galois_keys()"
   ],
   "id": "c37b65be824d4386",
   "outputs": [],
   "execution_count": 115
  },
  {
   "metadata": {
    "ExecuteTime": {
     "end_time": "2025-07-05T23:03:00.837249Z",
     "start_time": "2025-07-05T23:02:53.956438Z"
    }
   },
   "cell_type": "code",
   "source": [
    "#szyfrowanie zbioru uczącego\n",
    "s_time = time()\n",
    "enc_x_train = [ts.ckks_vector(ctx_training, x.tolist()) for x in x_train]\n",
    "enc_y_train = [ts.ckks_vector(ctx_training, y.tolist()) for y in y_train]\n",
    "e_time = time()\n",
    "print(f\"Train data encryption time {e_time-s_time}\")"
   ],
   "id": "eb3009869e4d3a69",
   "outputs": [
    {
     "name": "stdout",
     "output_type": "stream",
     "text": [
      "Train data encryption time 6.877591371536255\n"
     ]
    }
   ],
   "execution_count": 116
  },
  {
   "metadata": {
    "ExecuteTime": {
     "end_time": "2025-07-05T23:23:08.450588Z",
     "start_time": "2025-07-05T23:03:00.937051Z"
    }
   },
   "cell_type": "code",
   "source": [
    "from tqdm import tqdm\n",
    "\n",
    "eelr = EncryptedLogisticRegression(LogisticRegressionModel(n_features))\n",
    "accuracy = eelr.plain_accuracy(x_test, y_test)\n",
    "print(f\"Accuracy at epoch #0 is {accuracy}\")\n",
    "accuracies=[]\n",
    "times = []\n",
    "for epoch in tqdm(range(EPOCHS)):\n",
    "    eelr.encrypt(ctx_training)\n",
    "    s_time = time()\n",
    "    for enc_x, enc_y in zip(enc_x_train, enc_y_train):\n",
    "        enc_out = eelr.forward(enc_x)\n",
    "        eelr.backward(enc_x, enc_out, enc_y)\n",
    "    eelr.update_parameters()\n",
    "    e_time = time()\n",
    "    times.append(e_time - s_time)\n",
    "\n",
    "    eelr.decrypt()\n",
    "    accuracy = eelr.plain_accuracy(x_test, y_test)\n",
    "    accuracies.append(accuracy)\n",
    "    print(f\"Accuracy at epoch #{epoch + 1} is {accuracy}\")\n",
    "\n",
    "\n",
    "print(f\"\\nAverage time per epoch: {sum(times) / len(times)}\")\n",
    "print(f\"Final accuracy: {accuracy}\")\n",
    "diff_accuracy = plain_accuracy - accuracy\n",
    "print(f\"Plain data accuracy: {plain_accuracy}, Encrypted data accuracy: {accuracy}, Difference: {diff_accuracy}\")"
   ],
   "id": "a27567d3c04ad338",
   "outputs": [
    {
     "name": "stdout",
     "output_type": "stream",
     "text": [
      "Accuracy at epoch #0 is 0.6470588445663452\n"
     ]
    },
    {
     "name": "stderr",
     "output_type": "stream",
     "text": [
      "  5%|▌         | 1/20 [01:06<21:10, 66.85s/it]"
     ]
    },
    {
     "name": "stdout",
     "output_type": "stream",
     "text": [
      "Accuracy at epoch #1 is 0.3529411852359772\n"
     ]
    },
    {
     "name": "stderr",
     "output_type": "stream",
     "text": [
      " 10%|█         | 2/20 [02:13<20:01, 66.75s/it]"
     ]
    },
    {
     "name": "stdout",
     "output_type": "stream",
     "text": [
      "Accuracy at epoch #2 is 0.3529411852359772\n"
     ]
    },
    {
     "name": "stderr",
     "output_type": "stream",
     "text": [
      " 15%|█▌        | 3/20 [03:16<18:24, 64.97s/it]"
     ]
    },
    {
     "name": "stdout",
     "output_type": "stream",
     "text": [
      "Accuracy at epoch #3 is 0.3529411852359772\n"
     ]
    },
    {
     "name": "stderr",
     "output_type": "stream",
     "text": [
      " 20%|██        | 4/20 [04:18<16:58, 63.68s/it]"
     ]
    },
    {
     "name": "stdout",
     "output_type": "stream",
     "text": [
      "Accuracy at epoch #4 is 0.3529411852359772\n"
     ]
    },
    {
     "name": "stderr",
     "output_type": "stream",
     "text": [
      " 25%|██▌       | 5/20 [05:18<15:38, 62.56s/it]"
     ]
    },
    {
     "name": "stdout",
     "output_type": "stream",
     "text": [
      "Accuracy at epoch #5 is 0.5411764979362488\n"
     ]
    },
    {
     "name": "stderr",
     "output_type": "stream",
     "text": [
      " 30%|███       | 6/20 [06:19<14:29, 62.09s/it]"
     ]
    },
    {
     "name": "stdout",
     "output_type": "stream",
     "text": [
      "Accuracy at epoch #6 is 0.3529411852359772\n"
     ]
    },
    {
     "name": "stderr",
     "output_type": "stream",
     "text": [
      " 35%|███▌      | 7/20 [07:19<13:16, 61.28s/it]"
     ]
    },
    {
     "name": "stdout",
     "output_type": "stream",
     "text": [
      "Accuracy at epoch #7 is 0.6470588445663452\n"
     ]
    },
    {
     "name": "stderr",
     "output_type": "stream",
     "text": [
      " 40%|████      | 8/20 [08:18<12:05, 60.49s/it]"
     ]
    },
    {
     "name": "stdout",
     "output_type": "stream",
     "text": [
      "Accuracy at epoch #8 is 0.3529411852359772\n"
     ]
    },
    {
     "name": "stderr",
     "output_type": "stream",
     "text": [
      " 45%|████▌     | 9/20 [09:21<11:16, 61.47s/it]"
     ]
    },
    {
     "name": "stdout",
     "output_type": "stream",
     "text": [
      "Accuracy at epoch #9 is 0.3529411852359772\n"
     ]
    },
    {
     "name": "stderr",
     "output_type": "stream",
     "text": [
      " 50%|█████     | 10/20 [10:22<10:11, 61.13s/it]"
     ]
    },
    {
     "name": "stdout",
     "output_type": "stream",
     "text": [
      "Accuracy at epoch #10 is 0.3529411852359772\n"
     ]
    },
    {
     "name": "stderr",
     "output_type": "stream",
     "text": [
      " 55%|█████▌    | 11/20 [11:23<09:10, 61.21s/it]"
     ]
    },
    {
     "name": "stdout",
     "output_type": "stream",
     "text": [
      "Accuracy at epoch #11 is 0.6470588445663452\n"
     ]
    },
    {
     "name": "stderr",
     "output_type": "stream",
     "text": [
      " 60%|██████    | 12/20 [12:23<08:07, 60.88s/it]"
     ]
    },
    {
     "name": "stdout",
     "output_type": "stream",
     "text": [
      "Accuracy at epoch #12 is 0.3529411852359772\n"
     ]
    },
    {
     "name": "stderr",
     "output_type": "stream",
     "text": [
      " 65%|██████▌   | 13/20 [13:21<06:59, 59.89s/it]"
     ]
    },
    {
     "name": "stdout",
     "output_type": "stream",
     "text": [
      "Accuracy at epoch #13 is 0.3529411852359772\n"
     ]
    },
    {
     "name": "stderr",
     "output_type": "stream",
     "text": [
      " 70%|███████   | 14/20 [14:20<05:57, 59.62s/it]"
     ]
    },
    {
     "name": "stdout",
     "output_type": "stream",
     "text": [
      "Accuracy at epoch #14 is 0.3529411852359772\n"
     ]
    },
    {
     "name": "stderr",
     "output_type": "stream",
     "text": [
      " 75%|███████▌  | 15/20 [15:18<04:55, 59.12s/it]"
     ]
    },
    {
     "name": "stdout",
     "output_type": "stream",
     "text": [
      "Accuracy at epoch #15 is 0.6470588445663452\n"
     ]
    },
    {
     "name": "stderr",
     "output_type": "stream",
     "text": [
      " 80%|████████  | 16/20 [16:15<03:54, 58.67s/it]"
     ]
    },
    {
     "name": "stdout",
     "output_type": "stream",
     "text": [
      "Accuracy at epoch #16 is 0.3529411852359772\n"
     ]
    },
    {
     "name": "stderr",
     "output_type": "stream",
     "text": [
      " 85%|████████▌ | 17/20 [17:13<02:54, 58.23s/it]"
     ]
    },
    {
     "name": "stdout",
     "output_type": "stream",
     "text": [
      "Accuracy at epoch #17 is 0.3529411852359772\n"
     ]
    },
    {
     "name": "stderr",
     "output_type": "stream",
     "text": [
      " 90%|█████████ | 18/20 [18:10<01:56, 58.02s/it]"
     ]
    },
    {
     "name": "stdout",
     "output_type": "stream",
     "text": [
      "Accuracy at epoch #18 is 0.3529411852359772\n"
     ]
    },
    {
     "name": "stderr",
     "output_type": "stream",
     "text": [
      " 95%|█████████▌| 19/20 [19:09<00:58, 58.21s/it]"
     ]
    },
    {
     "name": "stdout",
     "output_type": "stream",
     "text": [
      "Accuracy at epoch #19 is 0.6470588445663452\n"
     ]
    },
    {
     "name": "stderr",
     "output_type": "stream",
     "text": [
      "100%|██████████| 20/20 [20:07<00:00, 60.38s/it]"
     ]
    },
    {
     "name": "stdout",
     "output_type": "stream",
     "text": [
      "Accuracy at epoch #20 is 0.6470588445663452\n",
      "\n",
      "Average time per epoch: 60.35522688627243\n",
      "Final accuracy: 0.6470588445663452\n",
      "Plain data accuracy: 0.8294117450714111, Encrypted data accuracy: 0.6470588445663452, Difference: 0.18235290050506592\n"
     ]
    },
    {
     "name": "stderr",
     "output_type": "stream",
     "text": [
      "\n"
     ]
    }
   ],
   "execution_count": 117
  },
  {
   "metadata": {
    "ExecuteTime": {
     "end_time": "2025-07-05T23:23:08.719625Z",
     "start_time": "2025-07-05T23:23:08.593039Z"
    }
   },
   "cell_type": "code",
   "source": [
    "plt.title(\"Miara accuracy na zbiorze testowym w trakcie uczenia\")\n",
    "plt.xlabel(\"epoka\")\n",
    "plt.ylabel(\"accuracy\")\n",
    "plt.plot(accuracies)"
   ],
   "id": "e19b853bde811326",
   "outputs": [
    {
     "data": {
      "text/plain": [
       "[<matplotlib.lines.Line2D at 0x733f6b756bc0>]"
      ]
     },
     "execution_count": 119,
     "metadata": {},
     "output_type": "execute_result"
    },
    {
     "data": {
      "text/plain": [
       "<Figure size 640x480 with 1 Axes>"
      ],
      "image/png": "[encoded data removed]"
     },
     "metadata": {},
     "output_type": "display_data"
    }
   ],
   "execution_count": 119
  }
 ],
 "metadata": {
  "kernelspec": {
   "display_name": "Python 3",
   "language": "python",
   "name": "python3"
  },
  "language_info": {
   "codemirror_mode": {
    "name": "ipython",
    "version": 2
   },
   "file_extension": ".py",
   "mimetype": "text/x-python",
   "name": "python",
   "nbconvert_exporter": "python",
   "pygments_lexer": "ipython2",
   "version": "2.7.6"
  }
 },
 "nbformat": 4,
 "nbformat_minor": 5
}
