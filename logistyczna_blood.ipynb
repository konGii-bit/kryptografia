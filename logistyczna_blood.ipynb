{
 "cells": [
  {
   "cell_type": "code",
   "id": "initial_id",
   "metadata": {
    "collapsed": true,
    "ExecuteTime": {
     "end_time": "2025-07-05T23:03:03.289761Z",
     "start_time": "2025-07-05T23:03:03.286083Z"
    }
   },
   "source": [
    "import torch\n",
    "import tenseal as ts\n",
    "import pandas as pd\n",
    "import random\n",
    "from time import time\n",
    "import numpy as np\n",
    "import matplotlib.pyplot as plt\n",
    "\n",
    "from notebooks.data import load_local_blood_transfusion"
   ],
   "outputs": [],
   "execution_count": 40
  },
  {
   "metadata": {
    "ExecuteTime": {
     "end_time": "2025-07-05T23:03:03.335884Z",
     "start_time": "2025-07-05T23:03:03.331602Z"
    }
   },
   "cell_type": "code",
   "source": [
    "def split_train_test(X, y, test_ratio=0.3):\n",
    "    idxs = [i for i in range(len(X))]\n",
    "    random.shuffle(idxs)\n",
    "    delim = int(len(X) * test_ratio)\n",
    "    test_idxs, train_idxs = idxs[:delim], idxs[delim:]\n",
    "    return X[train_idxs], y[train_idxs], X[test_idxs], y[test_idxs]"
   ],
   "id": "d141266cf6459806",
   "outputs": [],
   "execution_count": 41
  },
  {
   "metadata": {},
   "cell_type": "markdown",
   "source": [
    "## Zbiór danych\n",
    "Zbiór danych pochodził z Kaggle https://www.kaggle.com/datasets/mahmudulhaqueshawon/blood-dataset Ma 5 cech, zmienną objaśnianą jest class."
   ],
   "id": "7ec6626068df48e1"
  },
  {
   "metadata": {
    "ExecuteTime": {
     "end_time": "2025-07-05T23:03:03.412993Z",
     "start_time": "2025-07-05T23:03:03.406280Z"
    }
   },
   "cell_type": "code",
   "source": [
    "from sklearn.preprocessing import LabelEncoder\n",
    "def blood():\n",
    "    X,y = load_local_blood_transfusion()\n",
    "    X = torch.tensor(X).float()\n",
    "    X = (X - X.mean()) / X.std()\n",
    "    y=torch.tensor(y).float().unsqueeze(1)\n",
    "    return split_train_test(X, y)\n",
    "\n",
    "x_train, y_train, x_test, y_test = blood()\n",
    "\n",
    "print(f\"X_train shape: {x_train.shape}\")\n",
    "print(f\"y_train shape: {y_train.shape}\")\n",
    "print(f\"X_test shape: {x_test.shape}\")\n",
    "print(f\"y_test shape: {y_test.shape}\")"
   ],
   "id": "2e9b01c74f8578f4",
   "outputs": [
    {
     "name": "stdout",
     "output_type": "stream",
     "text": [
      "X_train shape: torch.Size([524, 4])\n",
      "y_train shape: torch.Size([524, 1])\n",
      "X_test shape: torch.Size([224, 4])\n",
      "y_test shape: torch.Size([224, 1])\n"
     ]
    }
   ],
   "execution_count": 42
  },
  {
   "metadata": {},
   "cell_type": "markdown",
   "source": [
    "## Regresja logistyczna bez szyfrowania\n",
    "\n",
    "Regresja logistyczna to algorytm klasyfikacji binarnej. Parametrami modelu jest wektor wag $w$ oraz bias $b$. Podczas wnioskowania wyznaczana jest wartość prawdopodobieństwa przynależności do jednej z klas $$p(x)=\\frac{1}{1+exp(-w^Tx+b)}$$ dla danych wejściowych x. Jeżeli wartość ta jest większa niż 0.5 przydzielana jest etykieta danej klasy, jeśli mniejsza, przydzielana jest etykieta klasy przeciwnej.\n",
    "\n",
    "Problem regresji logistycznej nie ma rozwiązania analitycznego, stosuje się metody gradientowe, aby wyznaczyć wartości wag. W procesie optymalizacji obliczane są gradienty funkcji straty względem wag i elementu bias, a następnie wartości gradientów po przemnożeniu przez niewielką stałą (learning rate) są odejmowane od wag.\n",
    "$$\\mathcal{L}(\\theta) = -\\frac{1}{n} \\sum_{i=1}^{n} \\left[ y^{(i)} \\log(\\sigma(\\theta^T x^{(i)})) + (1 - y^{(i)}) \\log(1 - \\sigma(\\theta^T x^{(i)})) \\right]$$"
   ],
   "id": "bf308634b3b14186"
  },
  {
   "metadata": {
    "ExecuteTime": {
     "end_time": "2025-07-05T23:03:03.491631Z",
     "start_time": "2025-07-05T23:03:03.488032Z"
    }
   },
   "cell_type": "code",
   "source": [
    "class LogisticRegressionModel(torch.nn.Module):\n",
    "\n",
    "    def __init__(self, n_features):\n",
    "        super(LogisticRegressionModel, self).__init__()\n",
    "        self.lr = torch.nn.Linear(n_features, 1)\n",
    "\n",
    "    def forward(self, x):\n",
    "        out = torch.sigmoid(self.lr(x))\n",
    "        return out"
   ],
   "id": "95845fc0e66069a9",
   "outputs": [],
   "execution_count": 43
  },
  {
   "metadata": {
    "ExecuteTime": {
     "end_time": "2025-07-05T23:03:03.577192Z",
     "start_time": "2025-07-05T23:03:03.570603Z"
    }
   },
   "cell_type": "code",
   "source": [
    "n_features = x_train.shape[1]\n",
    "model = LogisticRegressionModel(n_features)\n",
    "optim = torch.optim.SGD(model.parameters(), lr=1)\n",
    "criterion = torch.nn.BCELoss()"
   ],
   "id": "f2a5d95ba0490959",
   "outputs": [],
   "execution_count": 44
  },
  {
   "metadata": {
    "ExecuteTime": {
     "end_time": "2025-07-05T23:03:03.659150Z",
     "start_time": "2025-07-05T23:03:03.644370Z"
    }
   },
   "cell_type": "code",
   "source": [
    "EPOCHS = 20\n",
    "\n",
    "def train(model, optim, criterion, x, y, epochs=EPOCHS):\n",
    "    losses = []\n",
    "    for e in range(1, epochs + 1):\n",
    "        optim.zero_grad()\n",
    "        out = model(x)\n",
    "        loss = criterion(out, y)\n",
    "        loss.backward()\n",
    "        optim.step()\n",
    "        print(f\"Loss at epoch {e}: {loss.data}\")\n",
    "        losses.append(loss.data)\n",
    "    return model, losses\n",
    "\n",
    "s_time=time()\n",
    "model, losses = train(model, optim, criterion, x_train, y_train)\n",
    "e_time=time()\n",
    "t_time=e_time-s_time\n",
    "print(f\"Training time: {t_time}\")"
   ],
   "id": "c9519b1a75874809",
   "outputs": [
    {
     "name": "stdout",
     "output_type": "stream",
     "text": [
      "Loss at epoch 1: 0.6622087955474854\n",
      "Loss at epoch 2: 0.6132246255874634\n",
      "Loss at epoch 3: 0.5820655822753906\n",
      "Loss at epoch 4: 0.5627376437187195\n",
      "Loss at epoch 5: 0.5501961708068848\n",
      "Loss at epoch 6: 0.5418789982795715\n",
      "Loss at epoch 7: 0.5362681746482849\n",
      "Loss at epoch 8: 0.5324196815490723\n",
      "Loss at epoch 9: 0.5297399163246155\n",
      "Loss at epoch 10: 0.5278491973876953\n",
      "Loss at epoch 11: 0.5264998078346252\n",
      "Loss at epoch 12: 0.5255273580551147\n",
      "Loss at epoch 13: 0.5248205065727234\n",
      "Loss at epoch 14: 0.5243029594421387\n",
      "Loss at epoch 15: 0.5239214301109314\n",
      "Loss at epoch 16: 0.5236387252807617\n",
      "Loss at epoch 17: 0.5234280824661255\n",
      "Loss at epoch 18: 0.523270308971405\n",
      "Loss at epoch 19: 0.5231516361236572\n",
      "Loss at epoch 20: 0.5230619311332703\n",
      "Training time: 0.009550333023071289\n"
     ]
    }
   ],
   "execution_count": 45
  },
  {
   "metadata": {
    "ExecuteTime": {
     "end_time": "2025-07-05T23:03:03.882279Z",
     "start_time": "2025-07-05T23:03:03.726132Z"
    }
   },
   "cell_type": "code",
   "source": [
    "plt.title(\"Wykres funkcji straty w zależności od epoki\")\n",
    "plt.plot(losses)\n",
    "plt.xlabel(\"epoka\")\n",
    "plt.ylabel(\"funkcja straty\")"
   ],
   "id": "7bc76b93b252cd68",
   "outputs": [
    {
     "data": {
      "text/plain": [
       "Text(0, 0.5, 'funkcja straty')"
      ]
     },
     "execution_count": 46,
     "metadata": {},
     "output_type": "execute_result"
    },
    {
     "data": {
      "text/plain": [
       "<Figure size 640x480 with 1 Axes>"
      ],
      "image/png": "[encoded data removed]"
     },
     "metadata": {},
     "output_type": "display_data"
    }
   ],
   "execution_count": 46
  },
  {
   "metadata": {
    "ExecuteTime": {
     "end_time": "2025-07-05T23:03:03.926897Z",
     "start_time": "2025-07-05T23:03:03.922005Z"
    }
   },
   "cell_type": "code",
   "source": [
    "def accuracy(model, x, y):\n",
    "    out = model(x)\n",
    "    correct = torch.abs(y - out) < 0.5\n",
    "    return correct.float().mean()\n",
    "\n",
    "plain_accuracy = accuracy(model, x_test, y_test)\n",
    "print(f\"Accuracy: {plain_accuracy}\")"
   ],
   "id": "f8c755e992f6f78b",
   "outputs": [
    {
     "name": "stdout",
     "output_type": "stream",
     "text": [
      "Accuracy: 0.7678571343421936\n"
     ]
    }
   ],
   "execution_count": 47
  },
  {
   "metadata": {},
   "cell_type": "markdown",
   "source": [
    "## Predykcja na zaszyfrowanych danych\n",
    "\n",
    "Scenariusz, w którym serwer przechowuje model niezaszyfrowany.\n",
    "1. Klient przesyła do serwera zaszyfrowane dane oraz klucz publiczny\n",
    "2. Serwer szyfruje nim model\n",
    "3. Serwer przeprowadza predykcję używając zaszyfrowanych parametrów modelu i zaszyfrowanych danych\n",
    "4. Serwer zwraca wyniki predykcji\n",
    "5. Klient odszyfrowuje wyniki predykcji posługując się kluczem prywatnym\n",
    "\n",
    "Kluczowe miary to czas szyfrowania danych, czas predykcji oraz różnica pomiędzy wartościami predykcji otrzymanymi dla modelu niezaszyfrowanego i zaszyfrowanego.\n",
    "\n",
    "Klasa EncryptedLogRegAdapter jest adapterem dla wag wytrenowanego wcześniej na niezaszyfrowanych danych modelu. W konstruktorze tworzy kopię tych danych. Ma metodę encrypt, która szyfruje wagi, decrypt która odszyfrowuje wagi oraz operator wywołania funkcji, który wyznacza przewidywane wartości."
   ],
   "id": "193fafa78b33168f"
  },
  {
   "metadata": {
    "ExecuteTime": {
     "end_time": "2025-07-05T23:03:04.000272Z",
     "start_time": "2025-07-05T23:03:03.994163Z"
    }
   },
   "cell_type": "code",
   "source": [
    "class EncryptedLogRegAdapter:\n",
    "\n",
    "    def __init__(self, torch_lr):\n",
    "        self.weight = torch_lr.lr.weight.data.tolist()[0]\n",
    "        self.bias = torch_lr.lr.bias.data.tolist()\n",
    "\n",
    "    def forward(self, enc_x):\n",
    "        enc_out = enc_x.dot(self.weight) + self.bias\n",
    "        return enc_out\n",
    "\n",
    "    def __call__(self, *args, **kwargs):\n",
    "        return self.forward(*args, **kwargs)\n",
    "\n",
    "    def encrypt(self, context):\n",
    "        self.weight = ts.ckks_vector(context, self.weight)\n",
    "        self.bias = ts.ckks_vector(context, self.bias)\n",
    "\n",
    "    def decrypt(self, context):\n",
    "        self.weight = self.weight.decrypt()\n",
    "        self.bias = self.bias.decrypt()\n",
    "\n",
    "\n",
    "eelr = EncryptedLogRegAdapter(model)"
   ],
   "id": "54c1a0e62f9cd332",
   "outputs": [],
   "execution_count": 48
  },
  {
   "metadata": {
    "ExecuteTime": {
     "end_time": "2025-07-05T23:03:04.125189Z",
     "start_time": "2025-07-05T23:03:04.073286Z"
    }
   },
   "cell_type": "code",
   "source": [
    "# stopień wielomianu używany jako moduł wielomianowy\n",
    "poly_mod_degree = 4096\n",
    "coeff_mod_bit_sizes = [40, 20, 40]\n",
    "# tworzenie kontekstu Tenseal z użyciem schematu CKKS\n",
    "ctx_eval = ts.context(ts.SCHEME_TYPE.CKKS, poly_mod_degree, -1, coeff_mod_bit_sizes)\n",
    "ctx_eval.global_scale = 2 ** 20\n",
    "# klucze Galois do rotacji szyfrowanych wektorów oraz do operacji macierzowych\n",
    "ctx_eval.generate_galois_keys()"
   ],
   "id": "4a7641a722505e3",
   "outputs": [],
   "execution_count": 49
  },
  {
   "metadata": {
    "ExecuteTime": {
     "end_time": "2025-07-05T23:03:04.722592Z",
     "start_time": "2025-07-05T23:03:04.184516Z"
    }
   },
   "cell_type": "code",
   "source": [
    "s_time = time()\n",
    "enc_x_test = [ts.ckks_vector(ctx_eval, x.tolist()) for x in x_test]\n",
    "e_time = time()\n",
    "print(f\"Test data encryption time: {e_time - s_time}\")"
   ],
   "id": "928502fde2563557",
   "outputs": [
    {
     "name": "stdout",
     "output_type": "stream",
     "text": [
      "Test data encryption time: 0.5326395034790039\n"
     ]
    }
   ],
   "execution_count": 50
  },
  {
   "metadata": {
    "ExecuteTime": {
     "end_time": "2025-07-05T23:03:05.370068Z",
     "start_time": "2025-07-05T23:03:04.777540Z"
    }
   },
   "cell_type": "code",
   "source": [
    "## serwer zwraca zaszyfrowany wynik klasyfikacji, a następnie on odszyfrowywany i porównywany z rzeczywistymi etykietami\n",
    "\n",
    "def encrypted_evaluation(model, enc_x_test, y_test):\n",
    "    s_time = time()\n",
    "    correct = 0\n",
    "    for enc_x, y in zip(enc_x_test, y_test):\n",
    "        enc_out = model(enc_x)\n",
    "        out = enc_out.decrypt()\n",
    "        out = torch.tensor(out)\n",
    "        out = torch.sigmoid(out) #zwraca prawdopodobieństwo\n",
    "        if out<0.5:\n",
    "            out=0\n",
    "        else:\n",
    "            out=1\n",
    "        if out==y:\n",
    "            correct += 1\n",
    "\n",
    "    e_time = time()\n",
    "    print(f\"Evaluation time {e_time-s_time}\")\n",
    "    print(f\"Accuracy: {correct}/{len(x_test)} = {correct / len(x_test)}\")\n",
    "    return correct / len(x_test)\n",
    "\n",
    "\n",
    "encrypted_accuracy = encrypted_evaluation(eelr, enc_x_test, y_test)\n",
    "diff_accuracy = plain_accuracy - encrypted_accuracy\n",
    "print(f\"Plain data accuracy: {plain_accuracy}, Encrypted data accuracy: {encrypted_accuracy}, Difference: {diff_accuracy}\")"
   ],
   "id": "31c634875121e3a9",
   "outputs": [
    {
     "name": "stdout",
     "output_type": "stream",
     "text": [
      "Evaluation time 0.5860695838928223\n",
      "Accuracy: 172/224 = 0.7678571428571429\n",
      "Plain data accuracy: 0.7678571343421936, Encrypted data accuracy: 0.7678571428571429, Difference: 0.0\n"
     ]
    }
   ],
   "execution_count": 51
  },
  {
   "metadata": {},
   "cell_type": "markdown",
   "source": [
    "## Uczenie z szyfrowanym\n",
    "\n",
    "Scenariusz, w którym serwer otrzymuje zaszyfrowane dane i trenuje model z zaszyfrowanymi parametrami.\n",
    "1. Klient wysyła zaszyfrowane dane i klucz publiczny do serwera, przesyła także informacje o danych typu rozmiar danych i liczba rekordów\n",
    "2. Serwer inicjuje model i szyfruje go\n",
    "3. Następnie w pętli serwer wykonuje kolejne kroki uczenia, podczas których wyznacza funkcję straty, jej gradient względem wag, a następnie uaktualnia wagi\n",
    "4. Po zakończeniu treningu przesyła do klienta zaszyfrowane wagi lub cały zaszyfrowany model\n",
    "5. Klient odszyfrowuje wyniki, może ocenić jakość modelu i użyć go do predykcji na własnych danych\n",
    "\n",
    "W naszym przypadku w trakcie uczenia na zakońćzenie każdej epoki dane są odszyfrowywane i wyznaczana jest wartość metryki accuracy na zbiorze testowym.\n",
    "\n",
    "Rozwiązanie opracowane na podstawie:\n",
    "Chen, H., Gilad-Bachrach, R., Han, K. et al. Logistic regression over encrypted data from fully homomorphic encryption. BMC Med Genomics 11 (Suppl 4), 81 (2018). https://doi.org/10.1186/s12920-018-0397-z\n",
    "\n",
    "1. Zastosowano aproksymację funkcji sigmoidalnej za pomocą odpowiednio dobranego wielomianu, która używana jest jako funkcja aktywacji pojedynczego neuronu w ostatniej warstwie.\n",
    "2. Gradienty obliczane są jawnie, nie są stosowane obliczenia symboliczne."
   ],
   "id": "741dfc9bd7737929"
  },
  {
   "metadata": {
    "ExecuteTime": {
     "end_time": "2025-07-05T23:03:05.580880Z",
     "start_time": "2025-07-05T23:03:05.405867Z"
    }
   },
   "cell_type": "code",
   "source": [
    "import numpy as np\n",
    "import matplotlib.pyplot as plt\n",
    "\n",
    "def sigma(x):\n",
    "    return 0.5 + 0.197 * x - 0.004 * x**3\n",
    "\n",
    "x = np.linspace(-5, 5, 100)\n",
    "y = sigma(x)\n",
    "y2 = 1/(1+np.exp(-x))\n",
    "\n",
    "plt.figure(figsize=(8, 5))\n",
    "plt.plot(x, y, label=r'$\\sigma(x) = 0.5 + 0.197x - 0.004x^3$', color='blue')\n",
    "plt.plot(x, y2, label=r'$S(x) = \\frac{1}{1+exp(-x)}$', color='red')\n",
    "plt.axhline(0, color='gray', linestyle='--', linewidth=0.5)\n",
    "plt.axvline(0, color='gray', linestyle='--', linewidth=0.5)\n",
    "plt.xlabel('x')\n",
    "plt.ylabel('y')\n",
    "plt.title('Przybliżenie funkcji sigmoidalnej za pomocą wielomianu')\n",
    "plt.grid(True)\n",
    "plt.legend()\n",
    "plt.tight_layout()\n",
    "plt.show()\n"
   ],
   "id": "d0c06fb8f6ef76a6",
   "outputs": [
    {
     "data": {
      "text/plain": [
       "<Figure size 800x500 with 1 Axes>"
      ],
      "image/png": "[encoded data removed]"
     },
     "metadata": {},
     "output_type": "display_data"
    }
   ],
   "execution_count": 52
  },
  {
   "metadata": {},
   "cell_type": "markdown",
   "source": [
    "Funkcja forward wyznacza dla wejścia zakodowanego prawdopodobieństwo klasy ze wzoru $\\frac{1}{1+exp(-w^TX)}$, czyli po przemnożeniu wektora przez wagi wykonywane są obliczenia funkcji sigmoidalnej.\n",
    "Funkcja backward oblicza wartości gradientu ze wzoruów:\n",
    "$\\frac{\\partial \\mathcal{L}}{\\partial w} = x \\cdot (\\hat{y} - y)$ oraz\n",
    "$\\frac{\\partial \\mathcal{L}}{\\partial b} = \\hat{y} - y$\n",
    "\n",
    "Funkcja update_parameters aktualizuje wagi stosując algorytm gradientu prostego i stosowana jest niewielka regularyzacja.\n",
    "\n",
    "Funkcja plain_accuracy oblicza accuracy dostając jako parametry dane niezaszyfrowane."
   ],
   "id": "3412e6e1668ca984"
  },
  {
   "metadata": {
    "ExecuteTime": {
     "end_time": "2025-07-05T23:03:05.623247Z",
     "start_time": "2025-07-05T23:03:05.615326Z"
    }
   },
   "cell_type": "code",
   "source": [
    "class EncryptedLogisticRegression:\n",
    "\n",
    "    def __init__(self, torch_lr):\n",
    "        self.weight = torch_lr.lr.weight.data.tolist()[0]\n",
    "        self.bias = torch_lr.lr.bias.data.tolist()\n",
    "        self.learning_rate=0.1\n",
    "        self._delta_w = 0\n",
    "        self._delta_b = 0\n",
    "        self._count = 0\n",
    "\n",
    "    def forward(self, enc_x):\n",
    "        enc_out = enc_x.dot(self.weight) + self.bias\n",
    "        enc_out = EncryptedLogisticRegression.sigmoid(enc_out)\n",
    "        return enc_out\n",
    "\n",
    "    def backward(self, enc_x, enc_out, enc_y):\n",
    "        out_minus_y = (enc_out - enc_y)\n",
    "        self._delta_w += enc_x * out_minus_y\n",
    "        self._delta_b += out_minus_y\n",
    "        self._count += 1\n",
    "\n",
    "    def update_parameters(self):\n",
    "        self.weight -= self._delta_w * (self.learning_rate / self._count) + self.weight * 0.05\n",
    "        self.bias -= self._delta_b * (self.learning_rate / self._count)\n",
    "        self._delta_w = 0\n",
    "        self._delta_b = 0\n",
    "        self._count = 0\n",
    "\n",
    "    @staticmethod\n",
    "    def sigmoid(enc_x):\n",
    "        return enc_x.polyval([0.5, 0.197, 0, -0.004])\n",
    "\n",
    "    def plain_accuracy(self, x_test, y_test):\n",
    "        w = torch.tensor(self.weight)\n",
    "        b = torch.tensor(self.bias)\n",
    "        out = torch.sigmoid(x_test.matmul(w) + b).reshape(-1, 1)\n",
    "        y_pred = (out >= 0.5).int()\n",
    "        return (y_pred == y_test).float().mean().item()\n",
    "\n",
    "    def encrypt(self, context):\n",
    "        self.weight = ts.ckks_vector(context, self.weight)\n",
    "        self.bias = ts.ckks_vector(context, self.bias)\n",
    "\n",
    "    def decrypt(self):\n",
    "        self.weight = self.weight.decrypt()\n",
    "        self.bias = self.bias.decrypt()\n",
    "\n",
    "    def __call__(self, *args, **kwargs):\n",
    "        return self.forward(*args, **kwargs)\n"
   ],
   "id": "cb9675bc5d3a9f32",
   "outputs": [],
   "execution_count": 53
  },
  {
   "metadata": {
    "ExecuteTime": {
     "end_time": "2025-07-05T23:03:06.478813Z",
     "start_time": "2025-07-05T23:03:05.689636Z"
    }
   },
   "cell_type": "code",
   "source": [
    "poly_mod_degree = 8192\n",
    "coeff_mod_bit_sizes = [40, 21, 21, 21, 21, 21, 21, 40]\n",
    "ctx_training = ts.context(ts.SCHEME_TYPE.CKKS, poly_mod_degree, -1, coeff_mod_bit_sizes)\n",
    "ctx_training.global_scale = 2 ** 21\n",
    "ctx_training.generate_galois_keys()"
   ],
   "id": "c37b65be824d4386",
   "outputs": [],
   "execution_count": 54
  },
  {
   "metadata": {
    "ExecuteTime": {
     "end_time": "2025-07-05T23:03:15.818631Z",
     "start_time": "2025-07-05T23:03:06.517188Z"
    }
   },
   "cell_type": "code",
   "source": [
    "#szyfrowanie zbioru uczącego\n",
    "s_time = time()\n",
    "enc_x_train = [ts.ckks_vector(ctx_training, x.tolist()) for x in x_train]\n",
    "enc_y_train = [ts.ckks_vector(ctx_training, y.tolist()) for y in y_train]\n",
    "e_time = time()\n",
    "print(f\"Train data encryption time {e_time-s_time}\")"
   ],
   "id": "eb3009869e4d3a69",
   "outputs": [
    {
     "name": "stdout",
     "output_type": "stream",
     "text": [
      "Train data encryption time 9.297465324401855\n"
     ]
    }
   ],
   "execution_count": 55
  },
  {
   "metadata": {
    "ExecuteTime": {
     "end_time": "2025-07-05T23:15:08.928146Z",
     "start_time": "2025-07-05T23:03:15.891733Z"
    }
   },
   "cell_type": "code",
   "source": [
    "from tqdm import tqdm\n",
    "\n",
    "eelr = EncryptedLogisticRegression(LogisticRegressionModel(n_features))\n",
    "accuracy = eelr.plain_accuracy(x_test, y_test)\n",
    "print(f\"Accuracy at epoch #0 is {accuracy}\")\n",
    "accuracies=[]\n",
    "times = []\n",
    "for epoch in tqdm(range(EPOCHS)):\n",
    "    eelr.encrypt(ctx_training)\n",
    "    s_time = time()\n",
    "    for enc_x, enc_y in zip(enc_x_train, enc_y_train):\n",
    "        enc_out = eelr.forward(enc_x)\n",
    "        eelr.backward(enc_x, enc_out, enc_y)\n",
    "    eelr.update_parameters()\n",
    "    e_time = time()\n",
    "    times.append(e_time - s_time)\n",
    "\n",
    "    eelr.decrypt()\n",
    "    accuracy = eelr.plain_accuracy(x_test, y_test)\n",
    "    accuracies.append(accuracy)\n",
    "    print(f\"Accuracy at epoch #{epoch + 1} is {accuracy}\")\n",
    "\n",
    "\n",
    "print(f\"\\nAverage time per epoch: {sum(times) / len(times)}\")\n",
    "print(f\"Final accuracy: {accuracy}\")\n",
    "diff_accuracy = plain_accuracy - accuracy\n",
    "print(f\"Plain data accuracy: {plain_accuracy}, Encrypted data accuracy: {accuracy}, Difference: {diff_accuracy}\")"
   ],
   "id": "a27567d3c04ad338",
   "outputs": [
    {
     "name": "stdout",
     "output_type": "stream",
     "text": [
      "Accuracy at epoch #0 is 0.2366071492433548\n"
     ]
    },
    {
     "name": "stderr",
     "output_type": "stream",
     "text": [
      "  5%|▌         | 1/20 [00:37<11:48, 37.28s/it]"
     ]
    },
    {
     "name": "stdout",
     "output_type": "stream",
     "text": [
      "Accuracy at epoch #1 is 0.2366071492433548\n"
     ]
    },
    {
     "name": "stderr",
     "output_type": "stream",
     "text": [
      " 10%|█         | 2/20 [01:16<11:26, 38.14s/it]"
     ]
    },
    {
     "name": "stdout",
     "output_type": "stream",
     "text": [
      "Accuracy at epoch #2 is 0.3973214328289032\n"
     ]
    },
    {
     "name": "stderr",
     "output_type": "stream",
     "text": [
      " 15%|█▌        | 3/20 [01:54<10:49, 38.22s/it]"
     ]
    },
    {
     "name": "stdout",
     "output_type": "stream",
     "text": [
      "Accuracy at epoch #3 is 0.4642857015132904\n"
     ]
    },
    {
     "name": "stderr",
     "output_type": "stream",
     "text": [
      " 20%|██        | 4/20 [02:30<09:55, 37.22s/it]"
     ]
    },
    {
     "name": "stdout",
     "output_type": "stream",
     "text": [
      "Accuracy at epoch #4 is 0.5357142686843872\n"
     ]
    },
    {
     "name": "stderr",
     "output_type": "stream",
     "text": [
      " 25%|██▌       | 5/20 [03:07<09:17, 37.20s/it]"
     ]
    },
    {
     "name": "stdout",
     "output_type": "stream",
     "text": [
      "Accuracy at epoch #5 is 0.6116071343421936\n"
     ]
    },
    {
     "name": "stderr",
     "output_type": "stream",
     "text": [
      " 30%|███       | 6/20 [03:43<08:35, 36.79s/it]"
     ]
    },
    {
     "name": "stdout",
     "output_type": "stream",
     "text": [
      "Accuracy at epoch #6 is 0.6116071343421936\n"
     ]
    },
    {
     "name": "stderr",
     "output_type": "stream",
     "text": [
      " 35%|███▌      | 7/20 [04:17<07:49, 36.12s/it]"
     ]
    },
    {
     "name": "stdout",
     "output_type": "stream",
     "text": [
      "Accuracy at epoch #7 is 0.7589285969734192\n"
     ]
    },
    {
     "name": "stderr",
     "output_type": "stream",
     "text": [
      " 40%|████      | 8/20 [04:52<07:06, 35.58s/it]"
     ]
    },
    {
     "name": "stdout",
     "output_type": "stream",
     "text": [
      "Accuracy at epoch #8 is 0.7633928656578064\n"
     ]
    },
    {
     "name": "stderr",
     "output_type": "stream",
     "text": [
      " 45%|████▌     | 9/20 [05:28<06:33, 35.76s/it]"
     ]
    },
    {
     "name": "stdout",
     "output_type": "stream",
     "text": [
      "Accuracy at epoch #9 is 0.7633928656578064\n"
     ]
    },
    {
     "name": "stderr",
     "output_type": "stream",
     "text": [
      " 50%|█████     | 10/20 [06:02<05:53, 35.36s/it]"
     ]
    },
    {
     "name": "stdout",
     "output_type": "stream",
     "text": [
      "Accuracy at epoch #10 is 0.7633928656578064\n"
     ]
    },
    {
     "name": "stderr",
     "output_type": "stream",
     "text": [
      " 55%|█████▌    | 11/20 [06:37<05:16, 35.19s/it]"
     ]
    },
    {
     "name": "stdout",
     "output_type": "stream",
     "text": [
      "Accuracy at epoch #11 is 0.6116071343421936\n"
     ]
    },
    {
     "name": "stderr",
     "output_type": "stream",
     "text": [
      " 60%|██████    | 12/20 [07:11<04:37, 34.72s/it]"
     ]
    },
    {
     "name": "stdout",
     "output_type": "stream",
     "text": [
      "Accuracy at epoch #12 is 0.6116071343421936\n"
     ]
    },
    {
     "name": "stderr",
     "output_type": "stream",
     "text": [
      " 65%|██████▌   | 13/20 [07:45<04:00, 34.43s/it]"
     ]
    },
    {
     "name": "stdout",
     "output_type": "stream",
     "text": [
      "Accuracy at epoch #13 is 0.6116071343421936\n"
     ]
    },
    {
     "name": "stderr",
     "output_type": "stream",
     "text": [
      " 70%|███████   | 14/20 [08:20<03:28, 34.80s/it]"
     ]
    },
    {
     "name": "stdout",
     "output_type": "stream",
     "text": [
      "Accuracy at epoch #14 is 0.7633928656578064\n"
     ]
    },
    {
     "name": "stderr",
     "output_type": "stream",
     "text": [
      " 75%|███████▌  | 15/20 [08:57<02:56, 35.31s/it]"
     ]
    },
    {
     "name": "stdout",
     "output_type": "stream",
     "text": [
      "Accuracy at epoch #15 is 0.7633928656578064\n"
     ]
    },
    {
     "name": "stderr",
     "output_type": "stream",
     "text": [
      " 80%|████████  | 16/20 [09:32<02:21, 35.42s/it]"
     ]
    },
    {
     "name": "stdout",
     "output_type": "stream",
     "text": [
      "Accuracy at epoch #16 is 0.2366071492433548\n"
     ]
    },
    {
     "name": "stderr",
     "output_type": "stream",
     "text": [
      " 85%|████████▌ | 17/20 [10:07<01:45, 35.15s/it]"
     ]
    },
    {
     "name": "stdout",
     "output_type": "stream",
     "text": [
      "Accuracy at epoch #17 is 0.7633928656578064\n"
     ]
    },
    {
     "name": "stderr",
     "output_type": "stream",
     "text": [
      " 90%|█████████ | 18/20 [10:43<01:10, 35.26s/it]"
     ]
    },
    {
     "name": "stdout",
     "output_type": "stream",
     "text": [
      "Accuracy at epoch #18 is 0.2366071492433548\n"
     ]
    },
    {
     "name": "stderr",
     "output_type": "stream",
     "text": [
      " 95%|█████████▌| 19/20 [11:17<00:35, 35.04s/it]"
     ]
    },
    {
     "name": "stdout",
     "output_type": "stream",
     "text": [
      "Accuracy at epoch #19 is 0.7633928656578064\n"
     ]
    },
    {
     "name": "stderr",
     "output_type": "stream",
     "text": [
      "100%|██████████| 20/20 [11:53<00:00, 35.65s/it]"
     ]
    },
    {
     "name": "stdout",
     "output_type": "stream",
     "text": [
      "Accuracy at epoch #20 is 0.2366071492433548\n",
      "\n",
      "Average time per epoch: 35.63163653612137\n",
      "Final accuracy: 0.2366071492433548\n",
      "Plain data accuracy: 0.7678571343421936, Encrypted data accuracy: 0.2366071492433548, Difference: 0.53125\n"
     ]
    },
    {
     "name": "stderr",
     "output_type": "stream",
     "text": [
      "\n"
     ]
    }
   ],
   "execution_count": 56
  },
  {
   "metadata": {
    "ExecuteTime": {
     "end_time": "2025-07-05T23:15:09.132507Z",
     "start_time": "2025-07-05T23:15:09.004013Z"
    }
   },
   "cell_type": "code",
   "source": [
    "plt.title(\"Miara accuracy na zbiorze testowym w trakcie uczenia\")\n",
    "plt.xlabel(\"epoka\")\n",
    "plt.ylabel(\"accuracy\")\n",
    "plt.plot(accuracies)"
   ],
   "id": "352467ac379caba6",
   "outputs": [
    {
     "data": {
      "text/plain": [
       "[<matplotlib.lines.Line2D at 0x7f13307100d0>]"
      ]
     },
     "execution_count": 57,
     "metadata": {},
     "output_type": "execute_result"
    },
    {
     "data": {
      "text/plain": [
       "<Figure size 640x480 with 1 Axes>"
      ],
      "image/png": "[encoded data removed]"
     },
     "metadata": {},
     "output_type": "display_data"
    }
   ],
   "execution_count": 57
  }
 ],
 "metadata": {
  "kernelspec": {
   "display_name": "Python 3",
   "language": "python",
   "name": "python3"
  },
  "language_info": {
   "codemirror_mode": {
    "name": "ipython",
    "version": 2
   },
   "file_extension": ".py",
   "mimetype": "text/x-python",
   "name": "python",
   "nbconvert_exporter": "python",
   "pygments_lexer": "ipython2",
   "version": "2.7.6"
  }
 },
 "nbformat": 4,
 "nbformat_minor": 5
}
